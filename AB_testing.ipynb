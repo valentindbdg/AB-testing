{
 "cells": [
  {
   "cell_type": "markdown",
   "id": "bfb887af-1726-4b93-a268-35526e620614",
   "metadata": {},
   "source": [
    "# Introduction\n",
    "Imagine that you created a solution, and that you decided to develop a new version of that solution. The solution could be anything, such as new treatment to fight cancer, or a new webpage for an ecommerce website. \n",
    "\n",
    "In this notebook, we would like to test the effect of the new solution on a given metric to decide whether we should launch the new version of the solution or not. To do this, this notebook is divided into 4 parts:\n",
    "- Prerequisites\n",
    "- Experiment Design\n",
    "- Running Experiment\n",
    "- Result to Decision\n",
    "\n",
    "In this notebook, we assume that we want to know whether the new version of a webpage will improve a given metric, defined later in this experiment."
   ]
  },
  {
   "cell_type": "markdown",
   "id": "48e4f6cd-e6f2-4bb4-afe8-bc4e9843dbce",
   "metadata": {},
   "source": [
    "# Experiment Prerequisites\n",
    "Before running the experiment, we need to clarify: the experiment's objective(s) and key metric(s), the product variants, and the randomization units."
   ]
  },
  {
   "cell_type": "markdown",
   "id": "2e856516-049b-4366-9f13-04e499dd1503",
   "metadata": {},
   "source": [
    "## Objective & Key Metrics:\n",
    "For this experiment, we assume that we want to test the consequence on the \" purchase conversion\" also called \"conversion rate\" using the following equation:\n",
    "- Purchase Conversion = Nb. Converted Users / Nb. Exposed Users\n",
    "\n",
    "To do this, we need to define the terms \"exposure\" and \"conversion\":\n",
    "- Exposure: A user is exposed to its respective variant(here, the webpage version)\n",
    "- Conversion: A user purchases a product within 7 days after being exposed to the variant(here, the webpage version)."
   ]
  },
  {
   "cell_type": "markdown",
   "id": "6ed41023-bc54-4a37-8590-08c959ded2de",
   "metadata": {},
   "source": [
    "## Randomization unit: \n",
    "Assumption: In this experiment, we assume that there are enough users (or total number of observations) in our experiment."
   ]
  },
  {
   "cell_type": "markdown",
   "id": "196d0097-da7f-4941-88c5-ba1041396bda",
   "metadata": {},
   "source": [
    "## Product Variants:\n",
    "Assumption: In this experiment, we assume that the number of users in control group and treatment group are similar."
   ]
  },
  {
   "cell_type": "markdown",
   "id": "857ef8b2-a532-4917-8e29-5e2ab8b6725c",
   "metadata": {},
   "source": [
    "# Experiment Design\n",
    "In order to design an experiment properly, we need to answer a few questions:\n",
    "- Do we want to target all the users or a specific segment of users? \n",
    "- When does the effect is practically significant?\n",
    "- When do we conclude that the probability of detecting an effect is real?\n",
    "- When do we conclude that an effect is real when it's actually due to chance?\n",
    "- What is the size of the experiment?\n",
    "- How long should we run the experiment to get enough data?\n",
    "- What is the plan to collect the data of the experiment?"
   ]
  },
  {
   "cell_type": "markdown",
   "id": "da354367-779c-4d4e-81ca-2f69c9c9515f",
   "metadata": {},
   "source": [
    "## Target population:\n",
    "In the case study presented in this notebook, it could be possible to analyze the user's journey (funnel). For example, we could select only the users who have the intention to buy products and who started checking out."
   ]
  },
  {
   "cell_type": "markdown",
   "id": "e28eb1c2-681c-4a72-94bc-f852fab2f339",
   "metadata": {},
   "source": [
    "## Practical significance boundary:\n",
    "Practical significance boundary, also known as \"effect size\" must be defined. In the use case presented in this notebook, we could say that an increase of 2% in average conversion rate (the metric chosen) is practically significant. As a result, if there is a 2% in average conversion rate, we could launch the change to production."
   ]
  },
  {
   "cell_type": "code",
   "execution_count": 1,
   "id": "2f9e1f2a-8fc3-4c9e-8123-ba9ddfeb789b",
   "metadata": {},
   "outputs": [],
   "source": [
    "significant_lift = 2"
   ]
  },
  {
   "cell_type": "markdown",
   "id": "c9ecb378-cbe5-4d98-99e0-e94e665555a8",
   "metadata": {},
   "source": [
    "## Power of the test:\n",
    "The \"power of the test\", is the probability of True Positive, which is when we detect a given \"effect size\" (or practical significance) when the effect is real. \n",
    "- Probability = 1 - Beta. \n",
    "\n",
    "The industry standard in our case is: \n",
    "- Power = 80%"
   ]
  },
  {
   "cell_type": "code",
   "execution_count": 2,
   "id": "93451059-1b89-464c-ba1f-62e2a67c7b26",
   "metadata": {},
   "outputs": [],
   "source": [
    "power = 0.8"
   ]
  },
  {
   "cell_type": "markdown",
   "id": "637367d2-c42e-498c-b551-0c05475e8e3b",
   "metadata": {},
   "source": [
    "## Significance Level (alpha):\n",
    "The significance level (alpha) represents the probability of obtaining a False Positive (Type II error): when we mistakenly conclude that an effect is real when it's actually due to chance. \n",
    "- Probability = alpha\n",
    "\n",
    "The industry standard in our case is: \n",
    "- Significance level = 5%"
   ]
  },
  {
   "cell_type": "code",
   "execution_count": 3,
   "id": "d252408a-6ef5-412c-bd15-cb2891a877c4",
   "metadata": {},
   "outputs": [],
   "source": [
    "alpha = 0.05"
   ]
  },
  {
   "cell_type": "markdown",
   "id": "01e1c712-4458-4ae5-bc51-1bc3edafeb44",
   "metadata": {},
   "source": [
    "## Sample size:\n",
    "Now, we want to know the sample size of the experiment, or in other words, the number of users allocated randomly in each group. To do this, the following equation can be used:\n",
    "\n",
    "- Sample size = (16*sigma^2) / delta^2\n",
    "with sigma the standard deviation of the population, and delta the difference between treatment and control.\n",
    "\n",
    "To help with calculations, let's assume sigma is equal to 20. Then, the sample size is 16*20^2 / 2^2 = 1600 unique users in each variant. If there are 2 variants, we need at least a total population of 3200 unique users for 2 variants.\n",
    "\n",
    "If a smaller \"effect size\" (practical significance boundary, e.i.: USD 1/user) or a smaller significance level (alpha=2.5%) has to be detected, then the sample size has to be increased.\n",
    "\n",
    "## Duration: \n",
    "When planning the duration of the experiment, number of elements can affect the duration of an experiment and need to be considered:\n",
    "- Latency\n",
    "- Time required to get the data\n",
    "- Day of week effect: People behave differently during an entire week. As a result, the experiment should run for at least an entire week to capture this effect. \n",
    "- Seasonality: It is possible that data collected during holidays cannot be used for analysis. Therefore, the experiment must run longer.\n",
    "- Primacy or novelty effects: Users respond to changes differently, and the duration of the experiment must be chosen carefully to avoid a response due to the fact that the solution is a novelty.\n",
    "\n",
    "Defining a ramp-up plan allows to have no bugs and handle traffic without latency by exposing the new version to a small population and gradually increase the percentage.\n",
    "\n",
    "Example: \n",
    "- day 1: 5% of the treatment group\n",
    "- day 2: increase to 10% of the treatment group\n",
    "- etc. \n",
    "\n",
    "In our case, the data collected represents 3 weeks of exposure / conversion data."
   ]
  },
  {
   "cell_type": "markdown",
   "id": "c122e27e-2309-4e22-8a82-76e6e205783f",
   "metadata": {},
   "source": [
    "# Running Experiment"
   ]
  },
  {
   "cell_type": "markdown",
   "id": "ff4d003f-a61c-43b2-83a9-17fedddf305b",
   "metadata": {},
   "source": [
    "## Import\n",
    "First, Let's import useful Python libraries:"
   ]
  },
  {
   "cell_type": "code",
   "execution_count": 4,
   "id": "3d105171-4644-43b8-a9e1-eb3e1a67f402",
   "metadata": {},
   "outputs": [],
   "source": [
    "import pandas as pd\n",
    "import datetime\n",
    "from random import sample\n",
    "from random import seed\n",
    "from scipy.stats import beta\n",
    "import numpy as np\n",
    "\n",
    "import warnings\n",
    "warnings.filterwarnings(\"ignore\")"
   ]
  },
  {
   "cell_type": "markdown",
   "id": "29017ba5-0b8b-45ed-8b6e-beb2b831e5f8",
   "metadata": {},
   "source": [
    "## Data collection & Sanity check\n",
    "The data was collected and added to a CSV file. Each row is logged when a user is exposed to a variant. A first analysis must be performed to make sure that the data was collected properly based on a few assumptions:\n",
    "- No interaction effects between units in control / treatment groups.\n",
    "- Number of users assigned to groups is respected and random.\n",
    "- Consistency for each variant: Latency when using the product is similar, as it could affect the results.\n",
    "\n",
    "If the sanity check passes, we can continue with analysis. If it fails, we need to look into root cause, discard the results, or correct the data collected (if possible). To do this, let's import and visualize the data collected in this notebook using Pandas library, print the number of data collected"
   ]
  },
  {
   "cell_type": "code",
   "execution_count": 5,
   "id": "17ac3797-0e13-4159-be20-4e00aaec1ec3",
   "metadata": {},
   "outputs": [
    {
     "data": {
      "text/html": [
       "<div>\n",
       "<style scoped>\n",
       "    .dataframe tbody tr th:only-of-type {\n",
       "        vertical-align: middle;\n",
       "    }\n",
       "\n",
       "    .dataframe tbody tr th {\n",
       "        vertical-align: top;\n",
       "    }\n",
       "\n",
       "    .dataframe thead th {\n",
       "        text-align: right;\n",
       "    }\n",
       "</style>\n",
       "<table border=\"1\" class=\"dataframe\">\n",
       "  <thead>\n",
       "    <tr style=\"text-align: right;\">\n",
       "      <th></th>\n",
       "      <th>user_id</th>\n",
       "      <th>timestamp</th>\n",
       "      <th>group</th>\n",
       "      <th>landing_page</th>\n",
       "      <th>converted</th>\n",
       "    </tr>\n",
       "  </thead>\n",
       "  <tbody>\n",
       "    <tr>\n",
       "      <th>0</th>\n",
       "      <td>851104</td>\n",
       "      <td>2017-01-21 22:11:48.556739</td>\n",
       "      <td>control</td>\n",
       "      <td>old_page</td>\n",
       "      <td>0</td>\n",
       "    </tr>\n",
       "    <tr>\n",
       "      <th>1</th>\n",
       "      <td>804228</td>\n",
       "      <td>2017-01-12 08:01:45.159739</td>\n",
       "      <td>control</td>\n",
       "      <td>old_page</td>\n",
       "      <td>0</td>\n",
       "    </tr>\n",
       "    <tr>\n",
       "      <th>2</th>\n",
       "      <td>661590</td>\n",
       "      <td>2017-01-11 16:55:06.154213</td>\n",
       "      <td>treatment</td>\n",
       "      <td>new_page</td>\n",
       "      <td>0</td>\n",
       "    </tr>\n",
       "    <tr>\n",
       "      <th>3</th>\n",
       "      <td>853541</td>\n",
       "      <td>2017-01-08 18:28:03.143765</td>\n",
       "      <td>treatment</td>\n",
       "      <td>new_page</td>\n",
       "      <td>0</td>\n",
       "    </tr>\n",
       "    <tr>\n",
       "      <th>4</th>\n",
       "      <td>864975</td>\n",
       "      <td>2017-01-21 01:52:26.210827</td>\n",
       "      <td>control</td>\n",
       "      <td>old_page</td>\n",
       "      <td>1</td>\n",
       "    </tr>\n",
       "  </tbody>\n",
       "</table>\n",
       "</div>"
      ],
      "text/plain": [
       "   user_id                   timestamp      group landing_page  converted\n",
       "0   851104  2017-01-21 22:11:48.556739    control     old_page          0\n",
       "1   804228  2017-01-12 08:01:45.159739    control     old_page          0\n",
       "2   661590  2017-01-11 16:55:06.154213  treatment     new_page          0\n",
       "3   853541  2017-01-08 18:28:03.143765  treatment     new_page          0\n",
       "4   864975  2017-01-21 01:52:26.210827    control     old_page          1"
      ]
     },
     "execution_count": 5,
     "metadata": {},
     "output_type": "execute_result"
    }
   ],
   "source": [
    "df = pd.read_csv('data_modified.csv')\n",
    "df.head()"
   ]
  },
  {
   "cell_type": "markdown",
   "id": "bf379c66-d4e2-4aff-b5c7-c155637b3198",
   "metadata": {},
   "source": [
    "The columns are defined below:\n",
    "- \"timestamp\": time of exposure\n",
    "- \"group\":\n",
    "    - \"control\" group\n",
    "    - \"treatment\" group\n",
    "- \"landing_page\":\n",
    "    - variant \"new_page\"\n",
    "    - variant \"old_page\"\n",
    "- \"converted\": \n",
    "   - \"1\": converted (purchase within 7 days after exposure)\n",
    "   - \"0\": not converted (not purchase within 7 days after exposure)"
   ]
  },
  {
   "cell_type": "code",
   "execution_count": 6,
   "id": "d5e6ba4d-3335-49af-906e-5eea5df416d8",
   "metadata": {},
   "outputs": [
    {
     "name": "stdout",
     "output_type": "stream",
     "text": [
      "The lenght of the dataset is: 294478\n"
     ]
    }
   ],
   "source": [
    "print(f'The lenght of the dataset is: {len(df)}')"
   ]
  },
  {
   "cell_type": "code",
   "execution_count": 7,
   "id": "a487cf88-d68a-4702-a19c-edbf1ec34d5a",
   "metadata": {},
   "outputs": [
    {
     "name": "stdout",
     "output_type": "stream",
     "text": [
      "Statistics about the data collected: \n",
      "             user_id      converted\n",
      "count  294478.000000  294478.000000\n",
      "mean   787974.124733       0.122485\n",
      "std     91210.823776       0.327845\n",
      "min    630000.000000       0.000000\n",
      "25%    709032.250000       0.000000\n",
      "50%    787933.500000       0.000000\n",
      "75%    866911.750000       0.000000\n",
      "max    945999.000000       1.000000\n"
     ]
    }
   ],
   "source": [
    "print(f\"Statistics about the data collected: \\n{df.describe()}\")"
   ]
  },
  {
   "cell_type": "code",
   "execution_count": 8,
   "id": "dfd5c6d1-3f69-40ab-9cfc-e60baf6189d5",
   "metadata": {},
   "outputs": [
    {
     "name": "stdout",
     "output_type": "stream",
     "text": [
      "Nb. of unique user_id in experiment: 290584\n",
      "Nb. of total entries in experiment: 294478\n",
      "Nb. of users in treatment group: 147276\n",
      "Nb. users in control group: 147202\n",
      "Duration: 21 days.\n"
     ]
    }
   ],
   "source": [
    "start_time = datetime.datetime.strptime(df['timestamp'].min(), '%Y-%m-%d %H:%M:%S.%f') # start of the data collection\n",
    "end_time = datetime.datetime.strptime(df['timestamp'].max(), '%Y-%m-%d %H:%M:%S.%f') #end of the data collection\n",
    "data_duration = (end_time - start_time).days #number of days of the experiment\n",
    "\n",
    "t = df['user_id'].nunique()\n",
    "a = int(df[df['group'] == 'treatment'].shape[0]) # Number of subjects in treatment group\n",
    "b = int(df[df['group'] == 'control'].shape[0]) # Number of subjects in control group A\n",
    "\n",
    "print(f\"Nb. of unique user_id in experiment: {t}\")\n",
    "print(f\"Nb. of total entries in experiment: {df.shape[0]}\")\n",
    "print(f\"Nb. of users in treatment group: {a}\")\n",
    "print(f\"Nb. users in control group: {b}\")\n",
    "print(f\"Duration: {data_duration} days.\")"
   ]
  },
  {
   "cell_type": "markdown",
   "id": "db72be0c-be12-42f2-9d74-7b0de29c839c",
   "metadata": {},
   "source": [
    "### Data cleaning"
   ]
  },
  {
   "cell_type": "code",
   "execution_count": 9,
   "id": "e62463db-e2d4-4a75-9d41-310fdd7c764c",
   "metadata": {},
   "outputs": [
    {
     "name": "stdout",
     "output_type": "stream",
     "text": [
      "False    286690\n",
      "True       3894\n",
      "Name: user_id, dtype: int64\n",
      "3894 user_ids have been exposed to an old and new page. Those data should be removed as they do not represent a big part of the data collected\n"
     ]
    }
   ],
   "source": [
    "counter = df['user_id'].value_counts()\n",
    "mistake = (counter > 1).value_counts()\n",
    "print(mistake)\n",
    "print(f\"{mistake[1]} user_ids have been exposed to an old and new page. Those data should be removed as they do not represent a big part of the data collected\")"
   ]
  },
  {
   "cell_type": "code",
   "execution_count": 10,
   "id": "65fb4db3-6eae-4c53-9a81-c5e687bd5152",
   "metadata": {},
   "outputs": [],
   "source": [
    "valid_users = pd.DataFrame(counter[counter == 1].index, columns=['user_id'])\n",
    "df = df.merge(valid_users, on=['user_id'])"
   ]
  },
  {
   "cell_type": "markdown",
   "id": "52fb0687-2744-4a68-88cd-2a7f26e7a2b4",
   "metadata": {},
   "source": [
    "### Data engineering"
   ]
  },
  {
   "cell_type": "code",
   "execution_count": 11,
   "id": "98152027-a321-409f-9db6-51cb252ed7c1",
   "metadata": {},
   "outputs": [
    {
     "data": {
      "text/html": [
       "<div>\n",
       "<style scoped>\n",
       "    .dataframe tbody tr th:only-of-type {\n",
       "        vertical-align: middle;\n",
       "    }\n",
       "\n",
       "    .dataframe tbody tr th {\n",
       "        vertical-align: top;\n",
       "    }\n",
       "\n",
       "    .dataframe thead th {\n",
       "        text-align: right;\n",
       "    }\n",
       "</style>\n",
       "<table border=\"1\" class=\"dataframe\">\n",
       "  <thead>\n",
       "    <tr style=\"text-align: right;\">\n",
       "      <th></th>\n",
       "      <th>user_id</th>\n",
       "      <th>timestamp</th>\n",
       "      <th>group</th>\n",
       "      <th>landing_page</th>\n",
       "      <th>converted</th>\n",
       "      <th>week</th>\n",
       "    </tr>\n",
       "  </thead>\n",
       "  <tbody>\n",
       "    <tr>\n",
       "      <th>0</th>\n",
       "      <td>851104</td>\n",
       "      <td>2017-01-21 22:11:48.556739</td>\n",
       "      <td>control</td>\n",
       "      <td>old_page</td>\n",
       "      <td>0</td>\n",
       "      <td>3</td>\n",
       "    </tr>\n",
       "    <tr>\n",
       "      <th>1</th>\n",
       "      <td>804228</td>\n",
       "      <td>2017-01-12 08:01:45.159739</td>\n",
       "      <td>control</td>\n",
       "      <td>old_page</td>\n",
       "      <td>0</td>\n",
       "      <td>2</td>\n",
       "    </tr>\n",
       "    <tr>\n",
       "      <th>2</th>\n",
       "      <td>661590</td>\n",
       "      <td>2017-01-11 16:55:06.154213</td>\n",
       "      <td>treatment</td>\n",
       "      <td>new_page</td>\n",
       "      <td>0</td>\n",
       "      <td>2</td>\n",
       "    </tr>\n",
       "    <tr>\n",
       "      <th>3</th>\n",
       "      <td>853541</td>\n",
       "      <td>2017-01-08 18:28:03.143765</td>\n",
       "      <td>treatment</td>\n",
       "      <td>new_page</td>\n",
       "      <td>0</td>\n",
       "      <td>1</td>\n",
       "    </tr>\n",
       "    <tr>\n",
       "      <th>4</th>\n",
       "      <td>864975</td>\n",
       "      <td>2017-01-21 01:52:26.210827</td>\n",
       "      <td>control</td>\n",
       "      <td>old_page</td>\n",
       "      <td>1</td>\n",
       "      <td>3</td>\n",
       "    </tr>\n",
       "  </tbody>\n",
       "</table>\n",
       "</div>"
      ],
      "text/plain": [
       "   user_id                   timestamp      group landing_page  converted  \\\n",
       "0   851104  2017-01-21 22:11:48.556739    control     old_page          0   \n",
       "1   804228  2017-01-12 08:01:45.159739    control     old_page          0   \n",
       "2   661590  2017-01-11 16:55:06.154213  treatment     new_page          0   \n",
       "3   853541  2017-01-08 18:28:03.143765  treatment     new_page          0   \n",
       "4   864975  2017-01-21 01:52:26.210827    control     old_page          1   \n",
       "\n",
       "   week  \n",
       "0     3  \n",
       "1     2  \n",
       "2     2  \n",
       "3     1  \n",
       "4     3  "
      ]
     },
     "execution_count": 11,
     "metadata": {},
     "output_type": "execute_result"
    }
   ],
   "source": [
    "#Add week column:\n",
    "df['week'] = df['timestamp'].apply(lambda x: datetime.datetime.strptime(x, '%Y-%m-%d %H:%M:%S.%f').isocalendar()[1])\n",
    "number_of_week = df['week'].value_counts()\n",
    "df.head()"
   ]
  },
  {
   "cell_type": "code",
   "execution_count": 12,
   "id": "80bcc85a-6da1-49e8-8e55-b7218ade6a40",
   "metadata": {},
   "outputs": [
    {
     "name": "stdout",
     "output_type": "stream",
     "text": [
      "2    91380\n",
      "3    91056\n",
      "1    83745\n",
      "4    20509\n",
      "Name: week, dtype: int64\n"
     ]
    }
   ],
   "source": [
    "print(number_of_week)"
   ]
  },
  {
   "cell_type": "markdown",
   "id": "3c884ba5-64d3-466d-81c1-8a7ab3150cd0",
   "metadata": {},
   "source": [
    "## Hypothesis tests"
   ]
  },
  {
   "cell_type": "markdown",
   "id": "7f9acad1-964d-4cd1-840c-47184b8d2629",
   "metadata": {},
   "source": [
    "### Defining Variables"
   ]
  },
  {
   "cell_type": "code",
   "execution_count": 13,
   "id": "ac51d236-e17a-4748-b4f3-aa4accbe33eb",
   "metadata": {},
   "outputs": [
    {
     "name": "stdout",
     "output_type": "stream",
     "text": [
      "- Nb. of unique user_id in experiment: 286690\n",
      "- Nb. of total entries in experiment: 286690\n",
      "- Nb. of users in treatment group: 143397\n",
      "- Nb. users in control group: 143293\n",
      "- Duration of the Experiment: 21 days.\n",
      "- Observed Yes rate for A (treatment conversion rate): 12.44% \n",
      "- Observed Yes rate for B (control conversion rate): 12.017%, \n",
      "- A-B (Lift): -3.514%, \n",
      "- Total counts: Yes: 35058, No: 251632\n"
     ]
    }
   ],
   "source": [
    "# Variables that fully define the A/B test results\n",
    "NUM_WEEKS = number_of_week.shape[0]\n",
    "experiment_data = df[df['week'] <= NUM_WEEKS]\n",
    "control = experiment_data[experiment_data['group'] == 'control']\n",
    "treatment = experiment_data[experiment_data['group'] == 'treatment']\n",
    "\n",
    "a = treatment['converted'].count() # Number of subjects in treatment group\n",
    "b = control['converted'].count() # Number of subjects in control group\n",
    "t = a+b #total nummber of subjects in the experiment\n",
    "\n",
    "a_yes = treatment['converted'].sum() # Yes count in treatment group\n",
    "b_yes = control['converted'].sum() # Yes count in control group\n",
    "\n",
    "#Compute remaining A/B test results\n",
    "t_yes = a_yes + b_yes # Total yes count\n",
    "t_no = t - t_yes # Total no count\n",
    "a_yes_pc = 100* a_yes / a # Yes percentage in treatment group\n",
    "b_yes_pc = 100* b_yes / b # Yes percentage in control group\n",
    "\n",
    "# A/B testing Statistic: Yes percentage change difference (A-B)\n",
    "ab_yes_pc = ((b_yes_pc - a_yes_pc) / abs(b_yes_pc))*100\n",
    "\n",
    "print(f\"- Nb. of unique user_id in experiment: {t}\")\n",
    "print(f\"- Nb. of total entries in experiment: {df.shape[0]}\")\n",
    "if t != df.shape[0]:\n",
    "    print(\"WARNING!: The number of unique user_id and total entries in the experiment is different!\")\n",
    "\n",
    "print(f\"- Nb. of users in treatment group: {a}\")\n",
    "print(f\"- Nb. users in control group: {b}\")\n",
    "print(f\"- Duration of the Experiment: {data_duration} days.\")\n",
    "\n",
    "print(f'- Observed Yes rate for A (treatment conversion rate): {round(a_yes_pc,3)}% \\n- Observed Yes rate for B (control conversion rate): {round(b_yes_pc,3)}%, \\n- A-B (Lift): {round(ab_yes_pc, 3)}%, \\n- Total counts: Yes: {t_yes}, No: {t_no}')"
   ]
  },
  {
   "cell_type": "markdown",
   "id": "534c110b-6349-4a0c-b061-c51406a0f411",
   "metadata": {},
   "source": [
    "### Doing p Permutations"
   ]
  },
  {
   "cell_type": "code",
   "execution_count": 14,
   "id": "2b38de26-907f-421e-9e44-ce12a4edcd85",
   "metadata": {},
   "outputs": [],
   "source": [
    "seed(2) # For reproducible results\n",
    "\n",
    "bag = [1]*t_yes + [0]*t_no #S1 : create a bag with all the data\n",
    "\n",
    "p = 1000 # number of permutations\n",
    "perm_res = [0]*p # list for permutation results\n",
    "\n",
    "for i in range (p):\n",
    "    bag = sample(bag, k=len(bag)) # S2: Shuffle the bag\n",
    "    a_rs = bag[:a]                # S3: Random sample A\n",
    "    b_rs = bag[a:]                # S4: Random sample B\n",
    "    # Step 5: Compute the test statistic\n",
    "    perm_res[i] = 100*sum(a_rs)/a - 100*sum(b_rs)/b\n",
    "\n",
    "# Print representation of the Null hypothesis and can be used to compute the p-value\n",
    "# n = 5\n",
    "# for i in range(0, len(perm_res), n):\n",
    "#     print(str(perm_res[i:i+n]).replace(\",\", \"\").replace(\".0\", \"\"))"
   ]
  },
  {
   "cell_type": "markdown",
   "id": "7af03dcd-95aa-4d90-99bf-de577136daf5",
   "metadata": {},
   "source": [
    "Reminder about Powers and Errors:\n",
    "- Power: Probability of detecting a give effect size when the effect is real (True Positive). \n",
    "- Type I error (False Negative): Mistakenly concluding that an effect is due to chance(when it's actually real). Probability = Beta\n",
    "- Type II error (False Positive): Mistakenly concluding that an effect is real (when it's actually due to chance). Probability = Alpha"
   ]
  },
  {
   "cell_type": "code",
   "execution_count": 15,
   "id": "47470b29-bcae-49f9-9da6-06700f36af0b",
   "metadata": {},
   "outputs": [
    {
     "data": {
      "image/png": "[encoded data removed]",
      "text/plain": [
       "<Figure size 640x480 with 1 Axes>"
      ]
     },
     "metadata": {},
     "output_type": "display_data"
    }
   ],
   "source": [
    "# Transform list to pandas series:\n",
    "perm_res_s = pd.Series(perm_res)\n",
    "#print(pd.pivot_table(perm_res_s.value_counts().reset_index(), values = 0, columns = \"index\").to_string(index=False))\n",
    "#ax = perm_res_s.plot.hist(bins=100, alpha=1)\n",
    "ax1= perm_res_s.plot.kde()"
   ]
  },
  {
   "cell_type": "markdown",
   "id": "2cc37012-009f-4f68-935c-706bbb772a49",
   "metadata": {},
   "source": [
    "### Frequentist approach"
   ]
  },
  {
   "cell_type": "code",
   "execution_count": 16,
   "id": "a9641b1f-305e-40af-ac11-68ee858214da",
   "metadata": {},
   "outputs": [
    {
     "name": "stdout",
     "output_type": "stream",
     "text": [
      "Number of permutations: 1000 \n",
      "Two-way Hypothesis Test: (Null: A = B, Alternative: A != B)\n",
      "Extreme count          : 0 \n",
      "Extreme ratio (p-value): 0.0\n"
     ]
    }
   ],
   "source": [
    "# Two-way hypothesis test (Null: A = B, Alternative: A != B)\n",
    "extreme_count = sum(perm_res_s.abs() >= abs(ab_yes_pc))\n",
    "p_value = extreme_count / p\n",
    "\n",
    "# One-way hypothesis test (Null: A <= B, Alternative: A > B)\n",
    "pos_extreme_count = sum(perm_res_s >= ab_yes_pc)\n",
    "\n",
    "print(\"Number of permutations:\", p, \n",
    "    \"\\nTwo-way Hypothesis Test: (Null: A = B, Alternative: A != B)\"\n",
    "    \"\\nExtreme count          :\", extreme_count,\n",
    "    \"\\nExtreme ratio (p-value):\", p_value,)\n",
    "   #  \"\\nOne-way: Extreme count          :\", pos_extreme_count,\n",
    "   #  \"\\nOne-way: Extreme ratio (p-value):\", pos_extreme_count / p)"
   ]
  },
  {
   "cell_type": "code",
   "execution_count": 17,
   "id": "235f4c1b-ed80-4ead-b5f2-83104ab218d4",
   "metadata": {},
   "outputs": [
    {
     "name": "stdout",
     "output_type": "stream",
     "text": [
      "The null hypothesis CAN be rejected! \n",
      "The p-value = 0.0 is smaller than the significance level (0.05):\n",
      " (0.0 < 0.05)\n"
     ]
    }
   ],
   "source": [
    "if p_value > alpha:\n",
    "    print(f\"The null hypothesis CANNOT be rejected! \\nThe p-value is bigger than the significance level (0.05):\\n ({p_value} > {alpha})\")\n",
    "else:\n",
    "    print(f\"The null hypothesis CAN be rejected! \\nThe p-value = {round(p_value,10)} is smaller than the significance level (0.05):\\n ({p_value} < {alpha})\")"
   ]
  },
  {
   "cell_type": "markdown",
   "id": "6acf3ffc-bb81-4cc6-8078-eb9aa4545de0",
   "metadata": {},
   "source": [
    "### Bayesian approach\n",
    "The baysian approach can provide a much better grasp of the result by providing a posterior distribution that can be compared with the distribution before the experiment started (prior). \n",
    "\n",
    "We can therefore output a result that is an actionable statement such as: \"We can be X% confident that the lift is Y%\"\n",
    "\n",
    "The bayes theorem is intended to be used multiple times, each time gaining new evidence and update that an hypothesis is true. When Richard price introduced Bayes' Theorem, he made an analogy to a man coming out of a cave, who never seen the outside world before. He saw the Sun rise for the first time, and thought to himself: Is the sun rising a one-off event or does the Sun always do this? Every day after that, as the Sun rose again, he could get a little bit more confident about the way the world work.\n",
    "\n",
    "Assumption:\n",
    "In this example, we cannot access prior data, as a result the data of the first week is considered as the prior data, and the rest of the data as the posterior data."
   ]
  },
  {
   "cell_type": "markdown",
   "id": "5b30dc69-3710-40f3-ae53-6996cb19d00d",
   "metadata": {},
   "source": [
    "Let's create the prior beta distribution from the first weeks of converstion data:"
   ]
  },
  {
   "cell_type": "code",
   "execution_count": 18,
   "id": "d94cac10-c5b4-4c32-a209-3c20d05cfcaa",
   "metadata": {},
   "outputs": [],
   "source": [
    "prior = df[(df['week'] == 1) & (df['group'] == 'control')]"
   ]
  },
  {
   "cell_type": "markdown",
   "id": "f60df8bb-6c6d-4a52-8ac0-f510646479ba",
   "metadata": {},
   "source": [
    "Then, we take 10000 samples of purchase conversions rate"
   ]
  },
  {
   "cell_type": "code",
   "execution_count": 19,
   "id": "f237d55c-1dd9-4558-bf84-c10ee696f41a",
   "metadata": {},
   "outputs": [],
   "source": [
    "prior_means = []\n",
    "for i in range(10000):\n",
    "    prior_means.append(prior.sample(1000)['converted'].mean())"
   ]
  },
  {
   "cell_type": "markdown",
   "id": "1a51958f-95d1-474c-9561-71d879753f86",
   "metadata": {},
   "source": [
    "Feed the sample to model a Beta Distribution from sample means:"
   ]
  },
  {
   "cell_type": "code",
   "execution_count": 20,
   "id": "6acfd5bc-c8b0-4949-97b0-eae8182e9b16",
   "metadata": {},
   "outputs": [],
   "source": [
    "prior_alpha, prior_beta, _, _= beta.fit(prior_means, floc=0, fscale=1)"
   ]
  },
  {
   "cell_type": "code",
   "execution_count": 21,
   "id": "795a90a0-50a4-4fb7-86f5-ecd77217c478",
   "metadata": {},
   "outputs": [
    {
     "name": "stdout",
     "output_type": "stream",
     "text": [
      "- Nb. of unique user_id in experiment: 182436\n",
      "- Nb. of total entries in experiment: 286690\n",
      "WARNING!: The number of unique user_id and total entries in the experiment is different!\n",
      "- Nb. of users in treatment group: 91213\n",
      "- Nb. users in control group: 91223\n",
      "- Duration of the Experiment: 21 days.\n",
      "- Observed Yes rate for A (conversion rate of treatment group): 12.48% \n",
      "- Observed Yes rate for B (conversion rate of control group): 12.03%, \n",
      "- A-B (Lift): -3.79%, \n",
      "- Total counts: Yes: 22355, No: 160081\n"
     ]
    }
   ],
   "source": [
    "# Variables that fully define the A/B test results\n",
    "NUM_WEEKS = number_of_week.shape[0]-1\n",
    "experiment_data = df[(df['week'] > 1) & (df['week'] <= NUM_WEEKS)]\n",
    "control = experiment_data[experiment_data['group'] == 'control']\n",
    "treatment = experiment_data[experiment_data['group'] == 'treatment']\n",
    "\n",
    "a = treatment['converted'].count() # Number of subjects in treatment group\n",
    "b = control['converted'].count() # Number of subjects in control group\n",
    "t = a+b #total nummber of subjects in the experiment\n",
    "\n",
    "a_yes = treatment['converted'].sum() # Yes count in treatment group\n",
    "a_no = treatment['converted'].count() - a_yes #No count in treatment group\n",
    "\n",
    "b_yes = control['converted'].sum() # Yes count in control group\n",
    "b_no = control['converted'].count() - b_yes # No count in control group\n",
    "\n",
    "posterior_treatment = beta(prior_alpha + a_yes, prior_beta + a_no)\n",
    "posterior_control = beta(prior_alpha + b_yes, prior_beta + b_no)\n",
    "\n",
    "# Sample from Posteriors\n",
    "control_samples = posterior_control.rvs(1000)\n",
    "treatment_samples = posterior_treatment.rvs(1000)\n",
    "# probability = np.mean(treatment_samples > control_samples)\n",
    "\n",
    "#Compute remaining A/B test results\n",
    "t_yes = a_yes + b_yes # Total yes count\n",
    "t_no = t - t_yes # Total no count\n",
    "a_yes_pc = 100* a_yes / a # Yes percentage in treatment group\n",
    "b_yes_pc = 100* b_yes / b # Yes percentage in control group\n",
    "\n",
    "# A/B testing Statistic: Yes percentage difference (A-B)\n",
    "ab_yes_pc = ((b_yes_pc - a_yes_pc) / abs(b_yes_pc))*100\n",
    "\n",
    "print(f\"- Nb. of unique user_id in experiment: {t}\")\n",
    "print(f\"- Nb. of total entries in experiment: {df.shape[0]}\")\n",
    "if t != df.shape[0]:\n",
    "    print(\"WARNING!: The number of unique user_id and total entries in the experiment is different!\")\n",
    "\n",
    "print(f\"- Nb. of users in treatment group: {a}\")\n",
    "print(f\"- Nb. users in control group: {b}\")\n",
    "print(f\"- Duration of the Experiment: {data_duration} days.\")\n",
    "\n",
    "print(f'- Observed Yes rate for A (conversion rate of treatment group): {round(a_yes_pc,2)}% \\n- Observed Yes rate for B (conversion rate of control group): {round(b_yes_pc,2)}%, \\n- A-B (Lift): {round(ab_yes_pc, 2)}%, \\n- Total counts: Yes: {t_yes}, No: {t_no}')\n",
    "# print(f\"Probability that treatment > control: {probability * 100}%\")"
   ]
  },
  {
   "cell_type": "code",
   "execution_count": 22,
   "id": "0da32253-3a9d-40d0-bce5-8ef906935e5e",
   "metadata": {},
   "outputs": [
    {
     "name": "stdout",
     "output_type": "stream",
     "text": [
      "Control Posterior: Mean: 0.1202423011848952, Variance: 1.1467379699393633e-06\n",
      "Treatment Posterior: Mean: 0.12475462472776712, Variance: 1.1837974443138027e-06\n"
     ]
    }
   ],
   "source": [
    "(control_mu), (control_var) = posterior_control.stats()\n",
    "(treatment_mu), (treatment_var) = posterior_treatment.stats()\n",
    "print(f\"Control Posterior: Mean: {control_mu}, Variance: {control_var}\") \n",
    "print(f\"Treatment Posterior: Mean: {treatment_mu}, Variance: {treatment_var}\") "
   ]
  },
  {
   "cell_type": "markdown",
   "id": "04334b79-811a-4971-b6d3-dfd686471681",
   "metadata": {},
   "source": [
    "# Result to Decision\n",
    "The results are checked and interpreted to make decisions."
   ]
  },
  {
   "cell_type": "code",
   "execution_count": 23,
   "id": "172cb65d-7d7d-4da0-8d21-eb649b2d1cd0",
   "metadata": {},
   "outputs": [
    {
     "name": "stdout",
     "output_type": "stream",
     "text": [
      "Probability that we are seeing a 2% lift is 92.4%\n"
     ]
    }
   ],
   "source": [
    "lift_percentage = (treatment_samples - control_samples) / control_samples\n",
    "proba = round(np.mean((100 * lift_percentage) > significant_lift) * 100,3)\n",
    "print(f\"Probability that we are seeing a {significant_lift}% lift is {proba}%\")"
   ]
  },
  {
   "cell_type": "code",
   "execution_count": 24,
   "id": "d9c6501d-9ab8-428a-a3c2-85e11fd2b9bc",
   "metadata": {},
   "outputs": [
    {
     "data": {
      "text/html": [
       "<div>\n",
       "<style scoped>\n",
       "    .dataframe tbody tr th:only-of-type {\n",
       "        vertical-align: middle;\n",
       "    }\n",
       "\n",
       "    .dataframe tbody tr th {\n",
       "        vertical-align: top;\n",
       "    }\n",
       "\n",
       "    .dataframe thead th {\n",
       "        text-align: right;\n",
       "    }\n",
       "</style>\n",
       "<table border=\"1\" class=\"dataframe\">\n",
       "  <thead>\n",
       "    <tr style=\"text-align: right;\">\n",
       "      <th></th>\n",
       "      <th>desired_lift</th>\n",
       "      <th>probability</th>\n",
       "    </tr>\n",
       "  </thead>\n",
       "  <tbody>\n",
       "    <tr>\n",
       "      <th>0</th>\n",
       "      <td>1.0</td>\n",
       "      <td>0.982</td>\n",
       "    </tr>\n",
       "    <tr>\n",
       "      <th>1</th>\n",
       "      <td>2.0</td>\n",
       "      <td>0.924</td>\n",
       "    </tr>\n",
       "    <tr>\n",
       "      <th>2</th>\n",
       "      <td>3.0</td>\n",
       "      <td>0.707</td>\n",
       "    </tr>\n",
       "    <tr>\n",
       "      <th>3</th>\n",
       "      <td>4.0</td>\n",
       "      <td>0.414</td>\n",
       "    </tr>\n",
       "    <tr>\n",
       "      <th>4</th>\n",
       "      <td>5.0</td>\n",
       "      <td>0.166</td>\n",
       "    </tr>\n",
       "    <tr>\n",
       "      <th>5</th>\n",
       "      <td>6.0</td>\n",
       "      <td>0.048</td>\n",
       "    </tr>\n",
       "    <tr>\n",
       "      <th>6</th>\n",
       "      <td>7.0</td>\n",
       "      <td>0.008</td>\n",
       "    </tr>\n",
       "    <tr>\n",
       "      <th>7</th>\n",
       "      <td>8.0</td>\n",
       "      <td>0.001</td>\n",
       "    </tr>\n",
       "    <tr>\n",
       "      <th>8</th>\n",
       "      <td>9.0</td>\n",
       "      <td>0.000</td>\n",
       "    </tr>\n",
       "    <tr>\n",
       "      <th>9</th>\n",
       "      <td>10.0</td>\n",
       "      <td>0.000</td>\n",
       "    </tr>\n",
       "  </tbody>\n",
       "</table>\n",
       "</div>"
      ],
      "text/plain": [
       "   desired_lift  probability\n",
       "0           1.0        0.982\n",
       "1           2.0        0.924\n",
       "2           3.0        0.707\n",
       "3           4.0        0.414\n",
       "4           5.0        0.166\n",
       "5           6.0        0.048\n",
       "6           7.0        0.008\n",
       "7           8.0        0.001\n",
       "8           9.0        0.000\n",
       "9          10.0        0.000"
      ]
     },
     "execution_count": 24,
     "metadata": {},
     "output_type": "execute_result"
    }
   ],
   "source": [
    "desired_lift_max = 100\n",
    "desired_lift_in_percent = 0\n",
    "result = pd.DataFrame(columns=['desired_lift', 'probability'])\n",
    "\n",
    "for x in range(desired_lift_max):\n",
    "    lift_percentage = (treatment_samples - control_samples) / control_samples\n",
    "    desired_lift_in_percent = int(desired_lift_in_percent + 1)\n",
    "    probability = round(np.mean((100 * lift_percentage) > desired_lift_in_percent) * 100,3)\n",
    "    result = result.append({'desired_lift': desired_lift_in_percent, 'probability': probability/100}, ignore_index=True)\n",
    "\n",
    "result.head(10)"
   ]
  },
  {
   "cell_type": "code",
   "execution_count": 25,
   "id": "eff93a94-c525-45df-bfc6-1c74d636a0bd",
   "metadata": {},
   "outputs": [
    {
     "data": {
      "image/png": "[encoded data removed]",
      "text/plain": [
       "<Figure size 640x480 with 1 Axes>"
      ]
     },
     "metadata": {},
     "output_type": "display_data"
    }
   ],
   "source": [
    "lines = result.plot.line(x='desired_lift', y='probability')"
   ]
  },
  {
   "cell_type": "markdown",
   "id": "71e9e9a7-7183-4bfe-9948-e9fc90971591",
   "metadata": {},
   "source": [
    "Advantages of Bayesian over Frequentist:\n",
    "- Results are more interpretable than the ones we got from the frequentist approach\n",
    "- We can interpret results at any point during the experiment."
   ]
  },
  {
   "cell_type": "markdown",
   "id": "6caf0edf-6645-437b-b9d1-daa17c4b87c3",
   "metadata": {
    "tags": []
   },
   "source": [
    "## Decision\n",
    "It is recommended to launch a change when the result is:\n",
    "- Statistically significant (based on p-value, if Confidence interval overlaps with 0: NOT statistically significant)\n",
    "- Practically significant (based on point estimate > practical significance boundary USD 2 / user)\n",
    "\n",
    "If it is not the case, it is required to run a follow-up test with more power \n",
    "- Tradeoffs between different metrics: If different metrics move in different directions, such as revenue and user engagment.\n",
    "- Costs of launching: When costs are high, we need to make sure the benefit overwheigh the cost (using a practical significance boundary). When costs are low, any positive changes should be launched."
   ]
  },
  {
   "cell_type": "code",
   "execution_count": 26,
   "id": "4f34a78c-ca52-4d71-8a98-5632419632e6",
   "metadata": {},
   "outputs": [
    {
     "name": "stdout",
     "output_type": "stream",
     "text": [
      "- The test is statistically significant AND practically significant\n",
      "- Probability that we are seeing a 2% lift is 92.4%\n",
      "- Based on the results, the version should be launched\n"
     ]
    }
   ],
   "source": [
    "if proba >= power and p_value < alpha:\n",
    "    print(\"- The test is statistically significant AND practically significant\")\n",
    "    print(f\"- Probability that we are seeing a {significant_lift}% lift is {proba}%\")\n",
    "    print(\"- Based on the results, the version should be launched\")\n",
    "elif proba < power and p_value < alpha:\n",
    "    print(\"The test is statistically significant, but NOT practically significant\")\n",
    "    print(f\"- Probability that we are seeing a {significant_lift}% lift is {proba}%\")\n",
    "    print(\"- Based on the results, the version should NOT be launched\")\n",
    "elif proba >= power and p_value > alpha:\n",
    "    print(\"The test is NOT statistically significant, but it is practically significant\")\n",
    "    print(\"- Based on the results, the version should NOT be launched\")\n",
    "elif proba < power and p_value > alpha:\n",
    "    print(\"The test is NOT statistically significant, and NOT practically significant\")\n",
    "    print(f\"- Probability that we are seeing a {significant_lift}% lift is {proba}%\")\n",
    "    print(\"- Based on the results, the version should NOT be launched\")"
   ]
  },
  {
   "cell_type": "markdown",
   "id": "e9861817-bb52-48c1-b9b4-36584f68cac3",
   "metadata": {},
   "source": [
    "# Post-Launch monitoring\n",
    "Long-term effect may be different from short-term effect. As a result, it is a good idea to monitor the effect after launching the change."
   ]
  },
  {
   "cell_type": "markdown",
   "id": "b0b25329-d9c2-4247-adb3-7dfcf1ffddc9",
   "metadata": {},
   "source": [
    "# Note"
   ]
  },
  {
   "cell_type": "markdown",
   "id": "49aded8d-2f4f-4acc-9be8-4321137dc6fc",
   "metadata": {},
   "source": [
    "If you want to randomly modify the nunmber of conversion in the treatment group for experiment, you can use this little piece of code:"
   ]
  },
  {
   "cell_type": "code",
   "execution_count": 27,
   "id": "74bbb439-5d52-41e4-bce2-7840dde4a815",
   "metadata": {},
   "outputs": [],
   "source": [
    "# import random\n",
    "# for row in df.itertuples():\n",
    "#     r = random.randint(0,150)\n",
    "#     if r == 1 and df.at[row.Index, \"group\"] == 'treatment':\n",
    "#         df.at[row.Index, \"converted\"] = 1\n",
    "# df.to_csv('data_modified.csv', index=False)"
   ]
  }
 ],
 "metadata": {
  "kernelspec": {
   "display_name": "Python 3 (ipykernel)",
   "language": "python",
   "name": "python3"
  },
  "language_info": {
   "codemirror_mode": {
    "name": "ipython",
    "version": 3
   },
   "file_extension": ".py",
   "mimetype": "text/x-python",
   "name": "python",
   "nbconvert_exporter": "python",
   "pygments_lexer": "ipython3",
   "version": "3.9.13"
  },
  "toc-autonumbering": true
 },
 "nbformat": 4,
 "nbformat_minor": 5
}
