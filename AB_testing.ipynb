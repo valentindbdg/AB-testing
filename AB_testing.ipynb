{
 "cells": [
  {
   "cell_type": "markdown",
   "id": "6f335520-9cdf-42e2-9134-8298156d82eb",
   "metadata": {},
   "source": [
    "This notebook is divided into 6 parts:\n",
    "- Background\n",
    "- Prerequisites\n",
    "- Experiment Design\n",
    "- Running Experiment\n",
    "- Result to Decision\n",
    "- Post-Launch Monitoring"
   ]
  },
  {
   "cell_type": "markdown",
   "id": "eaa99739-46c6-46e9-8362-ac32cec38b18",
   "metadata": {},
   "source": [
    "import useful librairies:"
   ]
  },
  {
   "cell_type": "code",
   "execution_count": 1,
   "id": "3d105171-4644-43b8-a9e1-eb3e1a67f402",
   "metadata": {},
   "outputs": [],
   "source": [
    "import pandas as pd\n",
    "import datetime\n",
    "from random import sample\n",
    "from random import seed\n",
    "from scipy.stats import beta\n",
    "import numpy as np"
   ]
  },
  {
   "cell_type": "markdown",
   "id": "bfb887af-1726-4b93-a268-35526e620614",
   "metadata": {},
   "source": [
    "# Background\n",
    "Imagine that a webpage was developed for an ecommerce platform, and we want to test the effect of the new page on a given metric."
   ]
  },
  {
   "cell_type": "markdown",
   "id": "48e4f6cd-e6f2-4bb4-afe8-bc4e9843dbce",
   "metadata": {},
   "source": [
    "# Prerequisites\n",
    "Before running the experiemnts the following needs to be clarified:\n",
    "- Objective and key metrics\n",
    "- Product Variants\n",
    "- Randomization units"
   ]
  },
  {
   "cell_type": "markdown",
   "id": "2e856516-049b-4366-9f13-04e499dd1503",
   "metadata": {},
   "source": [
    "## Objective & Key Metrics:\n",
    "Key metrics are defined. We assume that we want to see the consequence on the conversion rate:\n",
    "- purchase conversion = nb. converted users / nb. exposed users\n",
    "\n",
    "The exposure and conversion data is defined below:\n",
    "- Exposure: A user is exposed to their respective variant (webpage)\n",
    "- Conversion: A user purchases a product within 7 days after being exposed to the variant (webpage)."
   ]
  },
  {
   "cell_type": "markdown",
   "id": "6ed41023-bc54-4a37-8590-08c959ded2de",
   "metadata": {},
   "source": [
    "## Randomization unit: \n",
    "Assumption: There are enough users (/total number of observations) in our experiement."
   ]
  },
  {
   "cell_type": "markdown",
   "id": "196d0097-da7f-4941-88c5-ba1041396bda",
   "metadata": {},
   "source": [
    "## Product Variants:\n",
    "- Assumption: The number of users in control and treatment groups are similar"
   ]
  },
  {
   "cell_type": "markdown",
   "id": "857ef8b2-a532-4917-8e29-5e2ab8b6725c",
   "metadata": {},
   "source": [
    "# Experiment Design\n",
    "\n",
    "## Target population:\n",
    "Who is the target population? Do we want to target all the users or a specific segment of users? To answer this question, it is possible to analyze the user's journey (funnel). For example, we could select only the users who have the intention to buy products and who started checking out.\n",
    "\n"
   ]
  },
  {
   "cell_type": "markdown",
   "id": "e28eb1c2-681c-4a72-94bc-f852fab2f339",
   "metadata": {},
   "source": [
    "## Practical significance boundary:\n",
    "Practical significance boundary, a.k.a. effect size: for example, we could agree that an increase of 2% in average conversion rate is practically significant. \n",
    "\n",
    "As a result, we could launch the change to production."
   ]
  },
  {
   "cell_type": "code",
   "execution_count": 2,
   "id": "2f9e1f2a-8fc3-4c9e-8123-ba9ddfeb789b",
   "metadata": {},
   "outputs": [],
   "source": [
    "significant_lift = 2"
   ]
  },
  {
   "cell_type": "markdown",
   "id": "c9ecb378-cbe5-4d98-99e0-e94e665555a8",
   "metadata": {},
   "source": [
    "## Power of the test:\n",
    "Probability of True Positive: detecting a given effect size when the effect is real. Probability = 1 - Beta.\n",
    "\n",
    "Industry standard: Power = 80%"
   ]
  },
  {
   "cell_type": "code",
   "execution_count": 3,
   "id": "93451059-1b89-464c-ba1f-62e2a67c7b26",
   "metadata": {},
   "outputs": [],
   "source": [
    "power = 0.8"
   ]
  },
  {
   "cell_type": "markdown",
   "id": "637367d2-c42e-498c-b551-0c05475e8e3b",
   "metadata": {},
   "source": [
    "## Significance Level (alpha):\n",
    "Probability of a False Positive (Type II error) : Mistakenly concluding that an effect is real (when it's actually due to chance). Probability = alpha\n",
    "\n",
    "Industry standard: Significance level = 5% (=0.05)"
   ]
  },
  {
   "cell_type": "code",
   "execution_count": 4,
   "id": "d252408a-6ef5-412c-bd15-cb2891a877c4",
   "metadata": {},
   "outputs": [],
   "source": [
    "alpha = 0.05"
   ]
  },
  {
   "cell_type": "markdown",
   "id": "01e1c712-4458-4ae5-bc51-1bc3edafeb44",
   "metadata": {},
   "source": [
    "## Sample size:\n",
    "What is the sample size of the experiment? How many user should be allocated randomly in each group?\n",
    "\n",
    "Sample size = (16*sigma^2) / delta^2\n",
    "with:\n",
    "- sigma: the standard deviation of the population\n",
    "- delta: difference between treatment and control\n",
    "\n",
    "Assume sigma is equal to 20. Then, the sample size is 16*20^2 / 2^2 = 1600 unique users in each variant. \n",
    "\n",
    "If there are 3 variants, we need a total population of 4800 unique users for 3 variants.\n",
    "\n",
    "If a smaller effect size (USD 1/user) or a smaller significance level (alpha=2.5%) has to be detected, then the sample size has to be increased.\n",
    "\n",
    "## Duration: \n",
    "For the experiment, the data collected represent 3 weeks of exposure / conversion data as defined below:\n",
    "- Exposure: A user is exposed to their respective variant (webpage)\n",
    "- Conversion: A user purchases a product within 7 days after being exposed to the variant (webpage).\n",
    "\n",
    "A number of elements can affect the duration of an experiment:\n",
    "- latency\n",
    "- time required to get the data\n",
    "- seasonality\n",
    "- primacy and novelty effects\n",
    "\n",
    "### Ramp-up plan:\n",
    "Defining a ramp-up plan allows to have no bugs and handle traffic without latency.\n",
    "- Expose to a small population\n",
    "- Gradually increase percentage\n",
    "\n",
    "Example: \n",
    "- day 1: 5% of the treatment group\n",
    "- day 2: increase to 10% of the treatment group\n",
    "- day 3: increase to 33% of the tratment group\n",
    "\n",
    "Assuming there are 2000 users / day entering checkout while purchasing products, then the experiment needs to run for a minimum of 4 days:\n",
    "\n",
    "day 1: 5% => 100\n",
    "day 2: 10% => 200\n",
    "day 1: 33% => 660\n",
    "day 1: 33% => 660\n",
    "\n",
    "### Day of week effect:\n",
    "People behave differently during an entire week. As a result, the experiment should run for at least an entire week to capture this effect.\n",
    "\n",
    "### Seasonality\n",
    "Data during holidays cannot be used for analysis and the experiment must run longer\n",
    "\n",
    "### Primacy or novelty effects:\n",
    "- Users respond to changes differently, and the duration of the experiment must be chosen carefully\n"
   ]
  },
  {
   "cell_type": "markdown",
   "id": "c122e27e-2309-4e22-8a82-76e6e205783f",
   "metadata": {},
   "source": [
    "# Running Experiment\n",
    "\n",
    "## Assumptions:\n",
    "- No interaction effects between units in control / treatment."
   ]
  },
  {
   "cell_type": "markdown",
   "id": "ea5bfdd1-c3d6-4094-bda8-6fde08149207",
   "metadata": {},
   "source": [
    "## Sanity check:\n",
    "- Number of users assigned to groups is respected and random\n",
    "- Consistency for each variant: Latency when using the product is similar, as it could affect the results"
   ]
  },
  {
   "cell_type": "markdown",
   "id": "29017ba5-0b8b-45ed-8b6e-beb2b831e5f8",
   "metadata": {},
   "source": [
    "## Data collection\n",
    "The data was collected and added to a CSV file. Each row is logged when a user is exposed to a variant:"
   ]
  },
  {
   "cell_type": "code",
   "execution_count": 5,
   "id": "17ac3797-0e13-4159-be20-4e00aaec1ec3",
   "metadata": {},
   "outputs": [
    {
     "data": {
      "text/html": [
       "<div>\n",
       "<style scoped>\n",
       "    .dataframe tbody tr th:only-of-type {\n",
       "        vertical-align: middle;\n",
       "    }\n",
       "\n",
       "    .dataframe tbody tr th {\n",
       "        vertical-align: top;\n",
       "    }\n",
       "\n",
       "    .dataframe thead th {\n",
       "        text-align: right;\n",
       "    }\n",
       "</style>\n",
       "<table border=\"1\" class=\"dataframe\">\n",
       "  <thead>\n",
       "    <tr style=\"text-align: right;\">\n",
       "      <th></th>\n",
       "      <th>user_id</th>\n",
       "      <th>timestamp</th>\n",
       "      <th>group</th>\n",
       "      <th>landing_page</th>\n",
       "      <th>converted</th>\n",
       "    </tr>\n",
       "  </thead>\n",
       "  <tbody>\n",
       "    <tr>\n",
       "      <th>0</th>\n",
       "      <td>851104</td>\n",
       "      <td>2017-01-21 22:11:48.556739</td>\n",
       "      <td>control</td>\n",
       "      <td>old_page</td>\n",
       "      <td>0</td>\n",
       "    </tr>\n",
       "    <tr>\n",
       "      <th>1</th>\n",
       "      <td>804228</td>\n",
       "      <td>2017-01-12 08:01:45.159739</td>\n",
       "      <td>control</td>\n",
       "      <td>old_page</td>\n",
       "      <td>0</td>\n",
       "    </tr>\n",
       "    <tr>\n",
       "      <th>2</th>\n",
       "      <td>661590</td>\n",
       "      <td>2017-01-11 16:55:06.154213</td>\n",
       "      <td>treatment</td>\n",
       "      <td>new_page</td>\n",
       "      <td>0</td>\n",
       "    </tr>\n",
       "    <tr>\n",
       "      <th>3</th>\n",
       "      <td>853541</td>\n",
       "      <td>2017-01-08 18:28:03.143765</td>\n",
       "      <td>treatment</td>\n",
       "      <td>new_page</td>\n",
       "      <td>0</td>\n",
       "    </tr>\n",
       "    <tr>\n",
       "      <th>4</th>\n",
       "      <td>864975</td>\n",
       "      <td>2017-01-21 01:52:26.210827</td>\n",
       "      <td>control</td>\n",
       "      <td>old_page</td>\n",
       "      <td>1</td>\n",
       "    </tr>\n",
       "  </tbody>\n",
       "</table>\n",
       "</div>"
      ],
      "text/plain": [
       "   user_id                   timestamp      group landing_page  converted\n",
       "0   851104  2017-01-21 22:11:48.556739    control     old_page          0\n",
       "1   804228  2017-01-12 08:01:45.159739    control     old_page          0\n",
       "2   661590  2017-01-11 16:55:06.154213  treatment     new_page          0\n",
       "3   853541  2017-01-08 18:28:03.143765  treatment     new_page          0\n",
       "4   864975  2017-01-21 01:52:26.210827    control     old_page          1"
      ]
     },
     "execution_count": 5,
     "metadata": {},
     "output_type": "execute_result"
    }
   ],
   "source": [
    "df = pd.read_csv('ab_data.csv')\n",
    "df.head()"
   ]
  },
  {
   "cell_type": "code",
   "execution_count": 6,
   "id": "74bbb439-5d52-41e4-bce2-7840dde4a815",
   "metadata": {},
   "outputs": [],
   "source": [
    "import random\n",
    "for row in df.itertuples():\n",
    "    r = random.randint(0,150)\n",
    "    if r == 1 and df.at[row.Index, \"group\"] == 'treatment':\n",
    "        df.at[row.Index, \"converted\"] = 1\n"
   ]
  },
  {
   "cell_type": "code",
   "execution_count": 7,
   "id": "d5e6ba4d-3335-49af-906e-5eea5df416d8",
   "metadata": {},
   "outputs": [
    {
     "data": {
      "text/plain": [
       "294478"
      ]
     },
     "execution_count": 7,
     "metadata": {},
     "output_type": "execute_result"
    }
   ],
   "source": [
    "len(df)"
   ]
  },
  {
   "cell_type": "code",
   "execution_count": 8,
   "id": "a487cf88-d68a-4702-a19c-edbf1ec34d5a",
   "metadata": {},
   "outputs": [
    {
     "data": {
      "text/html": [
       "<div>\n",
       "<style scoped>\n",
       "    .dataframe tbody tr th:only-of-type {\n",
       "        vertical-align: middle;\n",
       "    }\n",
       "\n",
       "    .dataframe tbody tr th {\n",
       "        vertical-align: top;\n",
       "    }\n",
       "\n",
       "    .dataframe thead th {\n",
       "        text-align: right;\n",
       "    }\n",
       "</style>\n",
       "<table border=\"1\" class=\"dataframe\">\n",
       "  <thead>\n",
       "    <tr style=\"text-align: right;\">\n",
       "      <th></th>\n",
       "      <th>user_id</th>\n",
       "      <th>converted</th>\n",
       "    </tr>\n",
       "  </thead>\n",
       "  <tbody>\n",
       "    <tr>\n",
       "      <th>count</th>\n",
       "      <td>294478.000000</td>\n",
       "      <td>294478.000000</td>\n",
       "    </tr>\n",
       "    <tr>\n",
       "      <th>mean</th>\n",
       "      <td>787974.124733</td>\n",
       "      <td>0.122648</td>\n",
       "    </tr>\n",
       "    <tr>\n",
       "      <th>std</th>\n",
       "      <td>91210.823776</td>\n",
       "      <td>0.328033</td>\n",
       "    </tr>\n",
       "    <tr>\n",
       "      <th>min</th>\n",
       "      <td>630000.000000</td>\n",
       "      <td>0.000000</td>\n",
       "    </tr>\n",
       "    <tr>\n",
       "      <th>25%</th>\n",
       "      <td>709032.250000</td>\n",
       "      <td>0.000000</td>\n",
       "    </tr>\n",
       "    <tr>\n",
       "      <th>50%</th>\n",
       "      <td>787933.500000</td>\n",
       "      <td>0.000000</td>\n",
       "    </tr>\n",
       "    <tr>\n",
       "      <th>75%</th>\n",
       "      <td>866911.750000</td>\n",
       "      <td>0.000000</td>\n",
       "    </tr>\n",
       "    <tr>\n",
       "      <th>max</th>\n",
       "      <td>945999.000000</td>\n",
       "      <td>1.000000</td>\n",
       "    </tr>\n",
       "  </tbody>\n",
       "</table>\n",
       "</div>"
      ],
      "text/plain": [
       "             user_id      converted\n",
       "count  294478.000000  294478.000000\n",
       "mean   787974.124733       0.122648\n",
       "std     91210.823776       0.328033\n",
       "min    630000.000000       0.000000\n",
       "25%    709032.250000       0.000000\n",
       "50%    787933.500000       0.000000\n",
       "75%    866911.750000       0.000000\n",
       "max    945999.000000       1.000000"
      ]
     },
     "execution_count": 8,
     "metadata": {},
     "output_type": "execute_result"
    }
   ],
   "source": [
    "df.describe()"
   ]
  },
  {
   "cell_type": "markdown",
   "id": "bf379c66-d4e2-4aff-b5c7-c155637b3198",
   "metadata": {},
   "source": [
    "Columns definition:\n",
    "- timestamp: time of exposure\n",
    "- group: bucket (control, treatment)\n",
    "- landing_page: variants (new_page, old_page)\n",
    "- converted: converted (1) or not (0)"
   ]
  },
  {
   "cell_type": "markdown",
   "id": "04334b79-811a-4971-b6d3-dfd686471681",
   "metadata": {},
   "source": [
    "# Result to Decision\n",
    "The results are checked and interpreted to make decisions"
   ]
  },
  {
   "cell_type": "markdown",
   "id": "dd581eca-c6b2-4341-a500-c54d43b1e892",
   "metadata": {},
   "source": [
    "## Sanity checks\n",
    "- If passed, continue with analysis\n",
    "- If failed, look into root cause, discard the results or correct if possible. "
   ]
  },
  {
   "cell_type": "markdown",
   "id": "abc10cd6-e660-4b00-bbb6-6ae05abe6403",
   "metadata": {},
   "source": []
  },
  {
   "cell_type": "code",
   "execution_count": 9,
   "id": "dfd5c6d1-3f69-40ab-9cfc-e60baf6189d5",
   "metadata": {},
   "outputs": [
    {
     "name": "stdout",
     "output_type": "stream",
     "text": [
      "Nb. of unique user_id in experiment: 290584\n",
      "Nb. of total entries in experiment: 294478\n",
      "Nb. of users in treatment group: 147276\n",
      "Nb. users in control group: 147202\n",
      "Duration: 21 days.\n"
     ]
    }
   ],
   "source": [
    "start_time = datetime.datetime.strptime(df['timestamp'].min(), '%Y-%m-%d %H:%M:%S.%f') # start of the data collection\n",
    "end_time = datetime.datetime.strptime(df['timestamp'].max(), '%Y-%m-%d %H:%M:%S.%f') #end of the data collection\n",
    "data_duration = (end_time - start_time).days #number of days of the experiment\n",
    "\n",
    "t = df['user_id'].nunique()\n",
    "a = int(df[df['group'] == 'treatment'].shape[0]) # Number of subjects in treatment group\n",
    "b = int(df[df['group'] == 'control'].shape[0]) # Number of subjects in control group A\n",
    "\n",
    "print(f\"Nb. of unique user_id in experiment: {t}\")\n",
    "print(f\"Nb. of total entries in experiment: {df.shape[0]}\")\n",
    "print(f\"Nb. of users in treatment group: {a}\")\n",
    "print(f\"Nb. users in control group: {b}\")\n",
    "print(f\"Duration: {data_duration} days.\")"
   ]
  },
  {
   "cell_type": "markdown",
   "id": "db72be0c-be12-42f2-9d74-7b0de29c839c",
   "metadata": {},
   "source": [
    "### Data cleaning"
   ]
  },
  {
   "cell_type": "code",
   "execution_count": 10,
   "id": "e62463db-e2d4-4a75-9d41-310fdd7c764c",
   "metadata": {},
   "outputs": [
    {
     "name": "stdout",
     "output_type": "stream",
     "text": [
      "False    286690\n",
      "True       3894\n",
      "Name: user_id, dtype: int64\n",
      "3894 user_ids have been exposed to an old and new page. Those data should be removed as they do not represent a big part of the data collected\n"
     ]
    }
   ],
   "source": [
    "counter = df['user_id'].value_counts()\n",
    "mistake = (counter > 1).value_counts()\n",
    "print(mistake)\n",
    "print(f\"{mistake[1]} user_ids have been exposed to an old and new page. Those data should be removed as they do not represent a big part of the data collected\")"
   ]
  },
  {
   "cell_type": "code",
   "execution_count": 11,
   "id": "65fb4db3-6eae-4c53-9a81-c5e687bd5152",
   "metadata": {},
   "outputs": [],
   "source": [
    "valid_users = pd.DataFrame(counter[counter == 1].index, columns=['user_id'])\n",
    "df = df.merge(valid_users, on=['user_id'])"
   ]
  },
  {
   "cell_type": "markdown",
   "id": "52fb0687-2744-4a68-88cd-2a7f26e7a2b4",
   "metadata": {},
   "source": [
    "### Data engineering"
   ]
  },
  {
   "cell_type": "code",
   "execution_count": 12,
   "id": "98152027-a321-409f-9db6-51cb252ed7c1",
   "metadata": {},
   "outputs": [
    {
     "data": {
      "text/html": [
       "<div>\n",
       "<style scoped>\n",
       "    .dataframe tbody tr th:only-of-type {\n",
       "        vertical-align: middle;\n",
       "    }\n",
       "\n",
       "    .dataframe tbody tr th {\n",
       "        vertical-align: top;\n",
       "    }\n",
       "\n",
       "    .dataframe thead th {\n",
       "        text-align: right;\n",
       "    }\n",
       "</style>\n",
       "<table border=\"1\" class=\"dataframe\">\n",
       "  <thead>\n",
       "    <tr style=\"text-align: right;\">\n",
       "      <th></th>\n",
       "      <th>user_id</th>\n",
       "      <th>timestamp</th>\n",
       "      <th>group</th>\n",
       "      <th>landing_page</th>\n",
       "      <th>converted</th>\n",
       "      <th>week</th>\n",
       "    </tr>\n",
       "  </thead>\n",
       "  <tbody>\n",
       "    <tr>\n",
       "      <th>0</th>\n",
       "      <td>851104</td>\n",
       "      <td>2017-01-21 22:11:48.556739</td>\n",
       "      <td>control</td>\n",
       "      <td>old_page</td>\n",
       "      <td>0</td>\n",
       "      <td>3</td>\n",
       "    </tr>\n",
       "    <tr>\n",
       "      <th>1</th>\n",
       "      <td>804228</td>\n",
       "      <td>2017-01-12 08:01:45.159739</td>\n",
       "      <td>control</td>\n",
       "      <td>old_page</td>\n",
       "      <td>0</td>\n",
       "      <td>2</td>\n",
       "    </tr>\n",
       "    <tr>\n",
       "      <th>2</th>\n",
       "      <td>661590</td>\n",
       "      <td>2017-01-11 16:55:06.154213</td>\n",
       "      <td>treatment</td>\n",
       "      <td>new_page</td>\n",
       "      <td>0</td>\n",
       "      <td>2</td>\n",
       "    </tr>\n",
       "    <tr>\n",
       "      <th>3</th>\n",
       "      <td>853541</td>\n",
       "      <td>2017-01-08 18:28:03.143765</td>\n",
       "      <td>treatment</td>\n",
       "      <td>new_page</td>\n",
       "      <td>0</td>\n",
       "      <td>1</td>\n",
       "    </tr>\n",
       "    <tr>\n",
       "      <th>4</th>\n",
       "      <td>864975</td>\n",
       "      <td>2017-01-21 01:52:26.210827</td>\n",
       "      <td>control</td>\n",
       "      <td>old_page</td>\n",
       "      <td>1</td>\n",
       "      <td>3</td>\n",
       "    </tr>\n",
       "  </tbody>\n",
       "</table>\n",
       "</div>"
      ],
      "text/plain": [
       "   user_id                   timestamp      group landing_page  converted  \\\n",
       "0   851104  2017-01-21 22:11:48.556739    control     old_page          0   \n",
       "1   804228  2017-01-12 08:01:45.159739    control     old_page          0   \n",
       "2   661590  2017-01-11 16:55:06.154213  treatment     new_page          0   \n",
       "3   853541  2017-01-08 18:28:03.143765  treatment     new_page          0   \n",
       "4   864975  2017-01-21 01:52:26.210827    control     old_page          1   \n",
       "\n",
       "   week  \n",
       "0     3  \n",
       "1     2  \n",
       "2     2  \n",
       "3     1  \n",
       "4     3  "
      ]
     },
     "execution_count": 12,
     "metadata": {},
     "output_type": "execute_result"
    }
   ],
   "source": [
    "#Add week column:\n",
    "df['week'] = df['timestamp'].apply(lambda x: datetime.datetime.strptime(x, '%Y-%m-%d %H:%M:%S.%f').isocalendar()[1])\n",
    "number_of_week = df['week'].value_counts()\n",
    "df.head()"
   ]
  },
  {
   "cell_type": "code",
   "execution_count": 13,
   "id": "80bcc85a-6da1-49e8-8e55-b7218ade6a40",
   "metadata": {},
   "outputs": [
    {
     "name": "stdout",
     "output_type": "stream",
     "text": [
      "2    91380\n",
      "3    91056\n",
      "1    83745\n",
      "4    20509\n",
      "Name: week, dtype: int64\n"
     ]
    }
   ],
   "source": [
    "print(number_of_week)"
   ]
  },
  {
   "cell_type": "markdown",
   "id": "7f9acad1-964d-4cd1-840c-47184b8d2629",
   "metadata": {},
   "source": [
    "## Defining Variables"
   ]
  },
  {
   "cell_type": "code",
   "execution_count": 14,
   "id": "ac51d236-e17a-4748-b4f3-aa4accbe33eb",
   "metadata": {},
   "outputs": [
    {
     "name": "stdout",
     "output_type": "stream",
     "text": [
      "- Nb. of unique user_id in experiment: 286690\n",
      "- Nb. of total entries in experiment: 286690\n",
      "- Nb. of users in treatment group: 143397\n",
      "- Nb. users in control group: 143293\n",
      "- Duration of the Experiment: 21 days.\n",
      "- Observed Yes rate for A (treatment conversion rate): 12.47% \n",
      "- Observed Yes rate for B (control conversion rate): 12.02%, \n",
      "- A-B (Lift): 0.46%, \n",
      "- Total counts: Yes: 35108, No: 251582\n"
     ]
    }
   ],
   "source": [
    "# Variables that fully define the A/B test results\n",
    "\n",
    "NUM_WEEKS = number_of_week.shape[0]\n",
    "experiment_data = df[df['week'] <= NUM_WEEKS]\n",
    "control = experiment_data[experiment_data['group'] == 'control']\n",
    "treatment = experiment_data[experiment_data['group'] == 'treatment']\n",
    "\n",
    "a = treatment['converted'].count() # Number of subjects in treatment group\n",
    "b = control['converted'].count() # Number of subjects in control group\n",
    "t = a+b #total nummber of subjects in the experiment\n",
    "\n",
    "a_yes = treatment['converted'].sum() # Yes count in treatment group\n",
    "b_yes = control['converted'].sum() # Yes count in control group\n",
    "\n",
    "#Compute remaining A/B test results\n",
    "t_yes = a_yes + b_yes # Total yes count\n",
    "t_no = t - t_yes # Total no count\n",
    "a_yes_pc = 100* a_yes / a # Yes percentage in treatment group\n",
    "b_yes_pc = 100* b_yes / b # Yes percentage in control group\n",
    "\n",
    "# A/B testing Statistic: Yes percentage difference (A-B)\n",
    "ab_yes_pc = a_yes_pc - b_yes_pc \n",
    "\n",
    "print(f\"- Nb. of unique user_id in experiment: {t}\")\n",
    "print(f\"- Nb. of total entries in experiment: {df.shape[0]}\")\n",
    "if t != df.shape[0]:\n",
    "    print(\"WARNING!: The number of unique user_id and total entries in the experiment is different!\")\n",
    "\n",
    "print(f\"- Nb. of users in treatment group: {a}\")\n",
    "print(f\"- Nb. users in control group: {b}\")\n",
    "print(f\"- Duration of the Experiment: {data_duration} days.\")\n",
    "\n",
    "print(f'- Observed Yes rate for A (treatment conversion rate): {round(a_yes_pc,2)}% \\n- Observed Yes rate for B (control conversion rate): {round(b_yes_pc,2)}%, \\n- A-B (Lift): {round(ab_yes_pc, 2)}%, \\n- Total counts: Yes: {t_yes}, No: {t_no}')"
   ]
  },
  {
   "cell_type": "markdown",
   "id": "534c110b-6349-4a0c-b061-c51406a0f411",
   "metadata": {},
   "source": [
    "## Doing p Permutations"
   ]
  },
  {
   "cell_type": "code",
   "execution_count": 15,
   "id": "2b38de26-907f-421e-9e44-ce12a4edcd85",
   "metadata": {},
   "outputs": [],
   "source": [
    "seed(2) # For reproducible results\n",
    "\n",
    "bag = [1]*t_yes + [0]*t_no #S1 : create a bag with all the data\n",
    "\n",
    "p = 100 # number of permutations\n",
    "perm_res = [0]*p # list for permutation results\n",
    "\n",
    "for i in range (p):\n",
    "    bag = sample(bag, k=len(bag)) # S2: Shuffle the bag\n",
    "    a_rs = bag[:a]                # S3: Random sample A\n",
    "    b_rs = bag[a:]                # S4: Random sample B\n",
    "    # Step 5: Compute the test statistic\n",
    "    perm_res[i] = 100*sum(a_rs)/a - 100*sum(b_rs)/b\n",
    "\n",
    "# Print representation of the Null hypothesis and can be used to compute the p-value\n",
    "# n = 5\n",
    "# for i in range(0, len(perm_res), n):\n",
    "#     print(str(perm_res[i:i+n]).replace(\",\", \"\").replace(\".0\", \"\"))"
   ]
  },
  {
   "cell_type": "markdown",
   "id": "7af03dcd-95aa-4d90-99bf-de577136daf5",
   "metadata": {},
   "source": [
    "Reminder about Powers and Errors:\n",
    "- Power: Probability of detecting a give effect size when the effect is real (True Positive). \n",
    "- Type I error (False Negative): Mistakenly concluding that an effect is due to chance(when it's actually real). Probability = Beta\n",
    "- Type II error (False Positive): Mistakenly concluding that an effect is real (when it's actually due to chance). Probability = Alpha"
   ]
  },
  {
   "cell_type": "code",
   "execution_count": 16,
   "id": "47470b29-bcae-49f9-9da6-06700f36af0b",
   "metadata": {},
   "outputs": [
    {
     "data": {
      "image/png": "[encoded data removed]",
      "text/plain": [
       "<Figure size 432x288 with 1 Axes>"
      ]
     },
     "metadata": {
      "needs_background": "light"
     },
     "output_type": "display_data"
    }
   ],
   "source": [
    "# Transform list to pandas series:\n",
    "perm_res_s = pd.Series(perm_res)\n",
    "#print(pd.pivot_table(perm_res_s.value_counts().reset_index(), values = 0, columns = \"index\").to_string(index=False))\n",
    "#ax = perm_res_s.plot.hist(bins=100, alpha=1)\n",
    "ax1= perm_res_s.plot.kde()"
   ]
  },
  {
   "cell_type": "markdown",
   "id": "3c884ba5-64d3-466d-81c1-8a7ab3150cd0",
   "metadata": {},
   "source": [
    "## Hypothesis tests"
   ]
  },
  {
   "cell_type": "markdown",
   "id": "2cc37012-009f-4f68-935c-706bbb772a49",
   "metadata": {},
   "source": [
    "### Frequentist approach"
   ]
  },
  {
   "cell_type": "code",
   "execution_count": 17,
   "id": "a9641b1f-305e-40af-ac11-68ee858214da",
   "metadata": {},
   "outputs": [
    {
     "name": "stdout",
     "output_type": "stream",
     "text": [
      "Number of permutations: 100 \n",
      "Two-way Hypothesis Test: (Null: A = B, Alternative: A != B)\n",
      "Extreme count          : 0 \n",
      "Extreme ratio (p-value): 0.0 \n",
      "\n"
     ]
    }
   ],
   "source": [
    "# Two-way hypothesis test (Null: A = B, Alternative: A != B)\n",
    "extreme_count = sum(perm_res_s.abs() >= abs(ab_yes_pc))\n",
    "p_value = extreme_count / p\n",
    "\n",
    "# One-way hypothesis test (Null: A <= B, Alternative: A > B)\n",
    "pos_extreme_count = sum(perm_res_s >= ab_yes_pc)\n",
    "\n",
    "\n",
    "print(\"Number of permutations:\", p, \n",
    "    \"\\nTwo-way Hypothesis Test: (Null: A = B, Alternative: A != B)\"\n",
    "    \"\\nExtreme count          :\", extreme_count,\n",
    "    \"\\nExtreme ratio (p-value):\", p_value,\n",
    "   #  \"\\nOne-way: Extreme count          :\", pos_extreme_count,\n",
    "   #  \"\\nOne-way: Extreme ratio (p-value):\", pos_extreme_count / p)\n",
    "    \"\\n\")"
   ]
  },
  {
   "cell_type": "code",
   "execution_count": 18,
   "id": "235f4c1b-ed80-4ead-b5f2-83104ab218d4",
   "metadata": {},
   "outputs": [
    {
     "name": "stdout",
     "output_type": "stream",
     "text": [
      "The null hypothesis CAN be rejected! \n",
      "The p-value = 0.0 is smaller than the significance level (0.05):\n",
      " (0.0 < 0.05)\n"
     ]
    }
   ],
   "source": [
    "if p_value > alpha:\n",
    "    print(f\"The null hypothesis CANNOT be rejected! \\nThe p-value is bigger than the significance level (0.05):\\n ({p_value} > {alpha})\")\n",
    "else:\n",
    "        print(f\"The null hypothesis CAN be rejected! \\nThe p-value = {round(p_value,10)} is smaller than the significance level (0.05):\\n ({p_value} < {alpha})\")"
   ]
  },
  {
   "cell_type": "markdown",
   "id": "6acf3ffc-bb81-4cc6-8078-eb9aa4545de0",
   "metadata": {},
   "source": [
    "### Bayesian approach\n",
    "The baysian approach can provide a much better grasp of the result by providing a posterior distribution that can be compared with the distribution before the experiment started (prior). We can therefore output a result that is an actionable statement such as: \n",
    "\n",
    "\"We can be X% confident that the lift is Y%\"\n",
    "\n",
    "The bayes theorem is intended to be used multiple times, each time gaining new evidence and update that an hypothesis is true. When Richard price introduced Bayes' Theorem, he made an analogy to a man coming out of a cave, who never seen the outside world before. He saw the Sun rise for the first time, and thoguht to himself: Is the sun rising a one-off event or does the Sun always do this? Every day after that, as the Sun rose again, he could get a little bit more confident that the way the world work.\n",
    "\n",
    "Assumption:\n",
    "As we cannot access prior data in this example, the data of the first week are considered as the prior data, and the rest of the data as the posterior data."
   ]
  },
  {
   "cell_type": "markdown",
   "id": "5b30dc69-3710-40f3-ae53-6996cb19d00d",
   "metadata": {},
   "source": [
    "#Let's create the prior beta distribution from the first weeks of converstion data"
   ]
  },
  {
   "cell_type": "code",
   "execution_count": 19,
   "id": "d94cac10-c5b4-4c32-a209-3c20d05cfcaa",
   "metadata": {},
   "outputs": [],
   "source": [
    "prior = df[(df['week'] == 1) & (df['group'] == 'control')]"
   ]
  },
  {
   "cell_type": "code",
   "execution_count": 20,
   "id": "f237d55c-1dd9-4558-bf84-c10ee696f41a",
   "metadata": {},
   "outputs": [],
   "source": [
    "#We take the 10000 samples of purchase conversions rate\n",
    "prior_means = []\n",
    "for i in range(10000):\n",
    "    prior_means.append(prior.sample(1000)['converted'].mean())"
   ]
  },
  {
   "cell_type": "code",
   "execution_count": 21,
   "id": "6acfd5bc-c8b0-4949-97b0-eae8182e9b16",
   "metadata": {},
   "outputs": [],
   "source": [
    "#Feed the sample to model a Beta Distribution from sample means:\n",
    "prior_alpha, prior_beta, _, _= beta.fit(prior_means, floc=0, fscale=1)"
   ]
  },
  {
   "cell_type": "code",
   "execution_count": 22,
   "id": "795a90a0-50a4-4fb7-86f5-ecd77217c478",
   "metadata": {},
   "outputs": [
    {
     "name": "stdout",
     "output_type": "stream",
     "text": [
      "- Nb. of unique user_id in experiment: 182436\n",
      "- Nb. of total entries in experiment: 286690\n",
      "WARNING!: The number of unique user_id and total entries in the experiment is different!\n",
      "- Nb. of users in treatment group: 91213\n",
      "- Nb. users in control group: 91223\n",
      "- Duration of the Experiment: 21 days.\n",
      "- Observed Yes rate for A (conversion rate of treatment group): 12.48% \n",
      "- Observed Yes rate for B (conversion rate of control group): 12.03%, \n",
      "- A-B (Lift): 0.46%, \n",
      "- Total counts: Yes: 22356, No: 160080\n",
      "Probability that treatment > control: 99.7%\n"
     ]
    }
   ],
   "source": [
    "# Variables that fully define the A/B test results\n",
    "\n",
    "NUM_WEEKS = number_of_week.shape[0]-1\n",
    "experiment_data = df[(df['week'] > 1) & (df['week'] <= NUM_WEEKS)]\n",
    "control = experiment_data[experiment_data['group'] == 'control']\n",
    "treatment = experiment_data[experiment_data['group'] == 'treatment']\n",
    "\n",
    "a = treatment['converted'].count() # Number of subjects in treatment group\n",
    "b = control['converted'].count() # Number of subjects in control group\n",
    "t = a+b #total nummber of subjects in the experiment\n",
    "\n",
    "a_yes = treatment['converted'].sum() # Yes count in treatment group\n",
    "a_no = treatment['converted'].count() - a_yes #No count in treatment group\n",
    "\n",
    "b_yes = control['converted'].sum() # Yes count in control group\n",
    "b_no = control['converted'].count() - b_yes # No count in control group\n",
    "\n",
    "posterior_treatment = beta(prior_alpha + a_yes, prior_beta + a_no)\n",
    "posterior_control = beta(prior_alpha + b_yes, prior_beta + b_no)\n",
    "\n",
    "# Sample from Posteriors\n",
    "control_samples = posterior_control.rvs(1000)\n",
    "treatment_samples = posterior_treatment.rvs(1000)\n",
    "probability = np.mean(treatment_samples > control_samples)\n",
    "\n",
    "#Compute remaining A/B test results\n",
    "t_yes = a_yes + b_yes # Total yes count\n",
    "t_no = t - t_yes # Total no count\n",
    "a_yes_pc = 100* a_yes / a # Yes percentage in treatment group\n",
    "b_yes_pc = 100* b_yes / b # Yes percentage in control group\n",
    "\n",
    "# A/B testing Statistic: Yes percentage difference (A-B)\n",
    "ab_yes_pc = a_yes_pc - b_yes_pc\n",
    "\n",
    "print(f\"- Nb. of unique user_id in experiment: {t}\")\n",
    "print(f\"- Nb. of total entries in experiment: {df.shape[0]}\")\n",
    "if t != df.shape[0]:\n",
    "    print(\"WARNING!: The number of unique user_id and total entries in the experiment is different!\")\n",
    "\n",
    "print(f\"- Nb. of users in treatment group: {a}\")\n",
    "print(f\"- Nb. users in control group: {b}\")\n",
    "print(f\"- Duration of the Experiment: {data_duration} days.\")\n",
    "\n",
    "print(f'- Observed Yes rate for A (conversion rate of treatment group): {round(a_yes_pc,2)}% \\n- Observed Yes rate for B (conversion rate of control group): {round(b_yes_pc,2)}%, \\n- A-B (Lift): {round(ab_yes_pc, 2)}%, \\n- Total counts: Yes: {t_yes}, No: {t_no}')\n",
    "print(f\"Probability that treatment > control: {probability * 100}%\")\n"
   ]
  },
  {
   "cell_type": "code",
   "execution_count": 23,
   "id": "0da32253-3a9d-40d0-bce5-8ef906935e5e",
   "metadata": {},
   "outputs": [
    {
     "name": "stdout",
     "output_type": "stream",
     "text": [
      "Control Posterior: Mean: 0.12024282601066819, Variance: 1.1467363186113212e-06\n",
      "Treatment Posterior: Mean: 0.12476596770629335, Variance: 1.1838835681969817e-06\n"
     ]
    }
   ],
   "source": [
    "(control_mu), (control_var) = posterior_control.stats()\n",
    "(treatment_mu), (treatment_var) = posterior_treatment.stats()\n",
    "print(f\"Control Posterior: Mean: {control_mu}, Variance: {control_var}\") \n",
    "print(f\"Treatment Posterior: Mean: {treatment_mu}, Variance: {treatment_var}\") "
   ]
  },
  {
   "cell_type": "code",
   "execution_count": 24,
   "id": "172cb65d-7d7d-4da0-8d21-eb649b2d1cd0",
   "metadata": {},
   "outputs": [
    {
     "name": "stdout",
     "output_type": "stream",
     "text": [
      "Probability that we are seeing a 2% lift is 90.8%\n"
     ]
    }
   ],
   "source": [
    "lift_percentage = (treatment_samples - control_samples) / control_samples\n",
    "proba = round(np.mean((100 * lift_percentage) > significant_lift) * 100,3)\n",
    "print(f\"Probability that we are seeing a {significant_lift}% lift is {proba}%\")\n"
   ]
  },
  {
   "cell_type": "code",
   "execution_count": 25,
   "id": "d9c6501d-9ab8-428a-a3c2-85e11fd2b9bc",
   "metadata": {},
   "outputs": [
    {
     "data": {
      "text/html": [
       "<div>\n",
       "<style scoped>\n",
       "    .dataframe tbody tr th:only-of-type {\n",
       "        vertical-align: middle;\n",
       "    }\n",
       "\n",
       "    .dataframe tbody tr th {\n",
       "        vertical-align: top;\n",
       "    }\n",
       "\n",
       "    .dataframe thead th {\n",
       "        text-align: right;\n",
       "    }\n",
       "</style>\n",
       "<table border=\"1\" class=\"dataframe\">\n",
       "  <thead>\n",
       "    <tr style=\"text-align: right;\">\n",
       "      <th></th>\n",
       "      <th>desired_lift</th>\n",
       "      <th>probability</th>\n",
       "    </tr>\n",
       "  </thead>\n",
       "  <tbody>\n",
       "    <tr>\n",
       "      <th>0</th>\n",
       "      <td>1.0</td>\n",
       "      <td>0.980</td>\n",
       "    </tr>\n",
       "    <tr>\n",
       "      <th>1</th>\n",
       "      <td>2.0</td>\n",
       "      <td>0.908</td>\n",
       "    </tr>\n",
       "    <tr>\n",
       "      <th>2</th>\n",
       "      <td>3.0</td>\n",
       "      <td>0.697</td>\n",
       "    </tr>\n",
       "    <tr>\n",
       "      <th>3</th>\n",
       "      <td>4.0</td>\n",
       "      <td>0.405</td>\n",
       "    </tr>\n",
       "    <tr>\n",
       "      <th>4</th>\n",
       "      <td>5.0</td>\n",
       "      <td>0.164</td>\n",
       "    </tr>\n",
       "    <tr>\n",
       "      <th>5</th>\n",
       "      <td>6.0</td>\n",
       "      <td>0.041</td>\n",
       "    </tr>\n",
       "    <tr>\n",
       "      <th>6</th>\n",
       "      <td>7.0</td>\n",
       "      <td>0.006</td>\n",
       "    </tr>\n",
       "    <tr>\n",
       "      <th>7</th>\n",
       "      <td>8.0</td>\n",
       "      <td>0.001</td>\n",
       "    </tr>\n",
       "    <tr>\n",
       "      <th>8</th>\n",
       "      <td>9.0</td>\n",
       "      <td>0.000</td>\n",
       "    </tr>\n",
       "    <tr>\n",
       "      <th>9</th>\n",
       "      <td>10.0</td>\n",
       "      <td>0.000</td>\n",
       "    </tr>\n",
       "  </tbody>\n",
       "</table>\n",
       "</div>"
      ],
      "text/plain": [
       "   desired_lift  probability\n",
       "0           1.0        0.980\n",
       "1           2.0        0.908\n",
       "2           3.0        0.697\n",
       "3           4.0        0.405\n",
       "4           5.0        0.164\n",
       "5           6.0        0.041\n",
       "6           7.0        0.006\n",
       "7           8.0        0.001\n",
       "8           9.0        0.000\n",
       "9          10.0        0.000"
      ]
     },
     "execution_count": 25,
     "metadata": {},
     "output_type": "execute_result"
    }
   ],
   "source": [
    "desired_lift_max = 100\n",
    "desired_lift_in_percent = 0\n",
    "result = pd.DataFrame(columns=['desired_lift', 'probability'])\n",
    "\n",
    "for x in range(desired_lift_max):\n",
    "    lift_percentage = (treatment_samples - control_samples) / control_samples\n",
    "    desired_lift_in_percent = int(desired_lift_in_percent + 1)\n",
    "    probability = round(np.mean((100 * lift_percentage) > desired_lift_in_percent) * 100,3)\n",
    "    result = result.append({'desired_lift': desired_lift_in_percent, 'probability': probability/100}, ignore_index=True)\n",
    "\n",
    "result.head(10)"
   ]
  },
  {
   "cell_type": "code",
   "execution_count": 26,
   "id": "eff93a94-c525-45df-bfc6-1c74d636a0bd",
   "metadata": {},
   "outputs": [
    {
     "data": {
      "image/png": "[encoded data removed]",
      "text/plain": [
       "<Figure size 432x288 with 1 Axes>"
      ]
     },
     "metadata": {
      "needs_background": "light"
     },
     "output_type": "display_data"
    }
   ],
   "source": [
    "lines = result.plot.line(x='desired_lift', y='probability')"
   ]
  },
  {
   "cell_type": "markdown",
   "id": "71e9e9a7-7183-4bfe-9948-e9fc90971591",
   "metadata": {},
   "source": [
    "Advantages of Bayesian over Frequentist:\n",
    "- Results are more interpretable than the ones we got from the frequentist approach\n",
    "- We can interpret results at any point during the experiment."
   ]
  },
  {
   "cell_type": "markdown",
   "id": "6caf0edf-6645-437b-b9d1-daa17c4b87c3",
   "metadata": {
    "tags": []
   },
   "source": [
    "## Decision\n",
    "It is recommended to launching a change when the result is:\n",
    "- Statistically significant (based on p-value, if Confidence interval overlaps with 0: NOT statistically significant)\n",
    "- Practically significant (based on point estimate > practical significance boundary USD 2 / user)\n",
    "\n",
    "If it is not the case, run a follow-up test with more power would be helpful in this case\n",
    "\n",
    "- Tradeoffs between different metrics: If different metrics move in different directions, such as revenue and user engagment.\n",
    "- Costs of launching: When costs are high, we need to make sure the benefit overwheigh the cost (using a practical significance boundary). When costs are low, any positive changes should be launched.\n"
   ]
  },
  {
   "cell_type": "code",
   "execution_count": 27,
   "id": "4f34a78c-ca52-4d71-8a98-5632419632e6",
   "metadata": {},
   "outputs": [
    {
     "name": "stdout",
     "output_type": "stream",
     "text": [
      "The test is statistically and practically significant\n"
     ]
    }
   ],
   "source": [
    "if proba >= power and p_value < alpha:\n",
    "    print(\"The test is statistically and practically significant\")\n",
    "elif proba < power and p_value < alpha:\n",
    "    print(\"The test is statistically significant, but NOT practically significant\")\n",
    "elif proba >= power and p_value > alpha:\n",
    "    print(\"The test is NOT statistically significant, but it is practically significant\")\n",
    "elif proba < power and p_value > alpha:\n",
    "    print(\"The test is NOT statistically significant, and NOT practically significant\")"
   ]
  },
  {
   "cell_type": "markdown",
   "id": "e9861817-bb52-48c1-b9b4-36584f68cac3",
   "metadata": {},
   "source": [
    "# Post-Launch monitoring\n",
    "Long-term effect:\n",
    "- Different from short-term effect"
   ]
  }
 ],
 "metadata": {
  "kernelspec": {
   "display_name": "Python 3 (ipykernel)",
   "language": "python",
   "name": "python3"
  },
  "language_info": {
   "codemirror_mode": {
    "name": "ipython",
    "version": 3
   },
   "file_extension": ".py",
   "mimetype": "text/x-python",
   "name": "python",
   "nbconvert_exporter": "python",
   "pygments_lexer": "ipython3",
   "version": "3.9.7"
  },
  "toc-autonumbering": true
 },
 "nbformat": 4,
 "nbformat_minor": 5
}
