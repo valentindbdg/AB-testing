{
 "cells": [
  {
   "cell_type": "markdown",
   "id": "6f335520-9cdf-42e2-9134-8298156d82eb",
   "metadata": {},
   "source": [
    "A/B Testing"
   ]
  },
  {
   "cell_type": "code",
   "execution_count": 14,
   "id": "3d105171-4644-43b8-a9e1-eb3e1a67f402",
   "metadata": {},
   "outputs": [],
   "source": [
    "import pandas as pd\n",
    "import datetime\n",
    "from random import sample\n",
    "from random import seed "
   ]
  },
  {
   "cell_type": "markdown",
   "id": "00f61971-3eb3-4955-8d69-a82a220599dd",
   "metadata": {},
   "source": [
    "A/B testing is performed following the following structure:\n",
    "- Background\n",
    "- Prerequisites\n",
    "- Experiment design\n",
    "- Running Experiment\n",
    "- Result to Decision\n",
    "- Post-launch monitoring"
   ]
  },
  {
   "cell_type": "markdown",
   "id": "bfb887af-1726-4b93-a268-35526e620614",
   "metadata": {},
   "source": [
    "# Background\n",
    "First it is important to understand the context of the use case at hand and define the hypothesis clearly.\n",
    "\n",
    "For example:\n",
    "\n",
    "Showing similar products while purchasing online products in the shopping cart could increase revenue, but it could also distract customers as they may delay or abandon the purchase."
   ]
  },
  {
   "cell_type": "markdown",
   "id": "48e4f6cd-e6f2-4bb4-afe8-bc4e9843dbce",
   "metadata": {},
   "source": [
    "# Prerequisites\n",
    "Before running the experiemnts the following needs to be clarified:\n",
    "- Objective and key metrics\n",
    "- Product Variants\n",
    "- Randomization units"
   ]
  },
  {
   "cell_type": "markdown",
   "id": "2e856516-049b-4366-9f13-04e499dd1503",
   "metadata": {},
   "source": [
    "## Key Metrics:\n",
    "- Revenue per user\n",
    "- number of user in control and treatment groups are similar\n",
    "\n",
    "### Product Variants:\n",
    "- 1 control group\n",
    "- 1 first treatment group\n",
    "- 1 second treatment group\n",
    "- etc.\n",
    "\n",
    "### Randomization Units:\n",
    "- Assumption: there are enough users (/total number of observations) in our experiement"
   ]
  },
  {
   "cell_type": "markdown",
   "id": "01e1c712-4458-4ae5-bc51-1bc3edafeb44",
   "metadata": {},
   "source": [
    "# Experiment Design\n",
    "To design the experiment, we first need to ask a few questions to target the right users in the experiment:\n",
    "\n",
    "## Target population:\n",
    "Who is the target population? Do we want to target all the users or a specific segment of users? To answer this question, it is possible to analyze the user's journey (funnel). For example, we could select only the users who have the intention to buy products and who started checking out.\n",
    "\n",
    "## Practical significance boundary:\n",
    "Practical significance boundary, a.k.a. effect size: for example, we could agree that an increase of USD 2/user in revenue is practically significant. As a result, if the revenue increase by USD 2/user on average, we could launch the change to production\n",
    "\n",
    "## Power of the test:\n",
    "Probability of True Positive: detecting a given effect size when the effect is real. Probability = 1 - Beta.\n",
    "Industry standard: Power = 80%\n",
    "\n",
    "## Significance Level (alpha):\n",
    "Probability of a False Positive (Type II error) : Mistakenly concluding that an effect is real (when it's actually due to chance). Probability = alpha\n",
    "Industry standard: Significance level = 5%\n",
    "\n",
    "## Sample size:\n",
    "What is the sample size of the experiment? How many user should be allocated randomly in each group?\n",
    "\n",
    "Sample size = (16*sigma^2) / delta^2\n",
    "with:\n",
    "- sigma: the standard deviation of the population\n",
    "- delta: difference between treatment and control\n",
    "\n",
    "Assume sigma is equal to 20. Then, the sample size is 16*20^2 / 2^2 = 1600 unique users in each variant. If there are 3 variants, we need a total population of 4800 unique users for 3 variants.\n",
    "\n",
    "If a smaller effect size (USD 1/user) or a smaller significance level (alpha=2.5%) has to be detected, then the sample size has to be increased.\n",
    "\n",
    "## Duration:\n",
    "A number of elements can affect the duration of an experiment:\n",
    "- latency\n",
    "- time required to get the data\n",
    "- seasonality\n",
    "- primacy and novelty effects\n",
    "\n",
    "### Ramp-up plan:\n",
    "Defining a ramp-up plan allows to have no bugs and handle traffic without latency.\n",
    "- Expose to a small population\n",
    "- Gradually increase percentage\n",
    "\n",
    "Example: \n",
    "- day 1: 5% of the treatment group\n",
    "- day 2: increase to 10% of the treatment group\n",
    "- day 3: increase to 33% of the tratment group\n",
    "\n",
    "Assuming there are 2000 users / day entering checkout while purchasing products, then the experiment needs to run for a minimum of 4 days:\n",
    "\n",
    "day 1: 5% => 100\n",
    "day 2: 10% => 200\n",
    "day 1: 33% => 660\n",
    "day 1: 33% => 660\n",
    "\n",
    "### Day of week effect:\n",
    "People behave differently during an entire week. As a result, the experiment should run for at least an entire week to capture this effect.\n",
    "\n",
    "### Seasonality\n",
    "Data during holidays cannot be used for analysis and the experiment must run longer\n",
    "\n",
    "### Primacy or novelty effects:\n",
    "- Users respond to changes differently, and the duration of the experiment must be chosen carefully\n"
   ]
  },
  {
   "cell_type": "markdown",
   "id": "ea5bfdd1-c3d6-4094-bda8-6fde08149207",
   "metadata": {},
   "source": [
    "## Sanity check:\n",
    "- Number of users assigned to groups is respected and random\n",
    "- Consistency for each variant: Latency when using the product is similar, as it could affect the results"
   ]
  },
  {
   "cell_type": "markdown",
   "id": "c122e27e-2309-4e22-8a82-76e6e205783f",
   "metadata": {},
   "source": [
    "# Running Experiment\n",
    "In this notebook, a webpage was developed for an ecommerce platform, and we want to test the effect of the new page on the purchase conversion:\n",
    "\n",
    "## Metrics:\n",
    "- purchase conversion = nb. converted users / nb. exposed users\n",
    "\n",
    "## Assumptions:\n",
    "- No interaction effects between units in control / treatment.\n",
    "\n"
   ]
  },
  {
   "cell_type": "markdown",
   "id": "29017ba5-0b8b-45ed-8b6e-beb2b831e5f8",
   "metadata": {},
   "source": [
    "## Data collection\n",
    "The data was collected and added to a CSV file. Each row is logged when a user is exposed to a variant:"
   ]
  },
  {
   "cell_type": "code",
   "execution_count": 15,
   "id": "17ac3797-0e13-4159-be20-4e00aaec1ec3",
   "metadata": {},
   "outputs": [
    {
     "data": {
      "text/html": [
       "<div>\n",
       "<style scoped>\n",
       "    .dataframe tbody tr th:only-of-type {\n",
       "        vertical-align: middle;\n",
       "    }\n",
       "\n",
       "    .dataframe tbody tr th {\n",
       "        vertical-align: top;\n",
       "    }\n",
       "\n",
       "    .dataframe thead th {\n",
       "        text-align: right;\n",
       "    }\n",
       "</style>\n",
       "<table border=\"1\" class=\"dataframe\">\n",
       "  <thead>\n",
       "    <tr style=\"text-align: right;\">\n",
       "      <th></th>\n",
       "      <th>user_id</th>\n",
       "      <th>timestamp</th>\n",
       "      <th>group</th>\n",
       "      <th>landing_page</th>\n",
       "      <th>converted</th>\n",
       "    </tr>\n",
       "  </thead>\n",
       "  <tbody>\n",
       "    <tr>\n",
       "      <th>0</th>\n",
       "      <td>851104</td>\n",
       "      <td>2017-01-21 22:11:48.556739</td>\n",
       "      <td>control</td>\n",
       "      <td>old_page</td>\n",
       "      <td>0</td>\n",
       "    </tr>\n",
       "    <tr>\n",
       "      <th>1</th>\n",
       "      <td>804228</td>\n",
       "      <td>2017-01-12 08:01:45.159739</td>\n",
       "      <td>control</td>\n",
       "      <td>old_page</td>\n",
       "      <td>0</td>\n",
       "    </tr>\n",
       "    <tr>\n",
       "      <th>2</th>\n",
       "      <td>661590</td>\n",
       "      <td>2017-01-11 16:55:06.154213</td>\n",
       "      <td>treatment</td>\n",
       "      <td>new_page</td>\n",
       "      <td>0</td>\n",
       "    </tr>\n",
       "    <tr>\n",
       "      <th>3</th>\n",
       "      <td>853541</td>\n",
       "      <td>2017-01-08 18:28:03.143765</td>\n",
       "      <td>treatment</td>\n",
       "      <td>new_page</td>\n",
       "      <td>0</td>\n",
       "    </tr>\n",
       "    <tr>\n",
       "      <th>4</th>\n",
       "      <td>864975</td>\n",
       "      <td>2017-01-21 01:52:26.210827</td>\n",
       "      <td>control</td>\n",
       "      <td>old_page</td>\n",
       "      <td>1</td>\n",
       "    </tr>\n",
       "  </tbody>\n",
       "</table>\n",
       "</div>"
      ],
      "text/plain": [
       "   user_id                   timestamp      group landing_page  converted\n",
       "0   851104  2017-01-21 22:11:48.556739    control     old_page          0\n",
       "1   804228  2017-01-12 08:01:45.159739    control     old_page          0\n",
       "2   661590  2017-01-11 16:55:06.154213  treatment     new_page          0\n",
       "3   853541  2017-01-08 18:28:03.143765  treatment     new_page          0\n",
       "4   864975  2017-01-21 01:52:26.210827    control     old_page          1"
      ]
     },
     "execution_count": 15,
     "metadata": {},
     "output_type": "execute_result"
    }
   ],
   "source": [
    "df = pd.read_csv('ab_data.csv')\n",
    "df.head()"
   ]
  },
  {
   "cell_type": "markdown",
   "id": "bf379c66-d4e2-4aff-b5c7-c155637b3198",
   "metadata": {},
   "source": [
    "Columns definition:\n",
    "- timestamp: time of exposure\n",
    "- group: bucket (control, treatment)\n",
    "- landing_page: variants (new_page, old_page)\n",
    "- converted: converted (1) or not (0)"
   ]
  },
  {
   "cell_type": "markdown",
   "id": "abc10cd6-e660-4b00-bbb6-6ae05abe6403",
   "metadata": {},
   "source": [
    "## Duration: \n",
    "The data collected represent 3 weeks of exposure / conversion data:\n",
    "- Exposure: A user is exposed to their respective variant (webpage)\n",
    "- Conversion: A user purchases a product within 7 days after being exposed to the variant (webpage)."
   ]
  },
  {
   "cell_type": "code",
   "execution_count": 21,
   "id": "dfd5c6d1-3f69-40ab-9cfc-e60baf6189d5",
   "metadata": {},
   "outputs": [
    {
     "name": "stdout",
     "output_type": "stream",
     "text": [
      "Nb. of unique user_id in experiment: 290584\n",
      "Nb. of total entries in experiment: 294478\n",
      "Nb. of users in treatment group: 147276\n",
      "Nb. users in control group: 147202\n",
      "Duration: 21 days.\n"
     ]
    }
   ],
   "source": [
    "start_time = datetime.datetime.strptime(df['timestamp'].min(), '%Y-%m-%d %H:%M:%S.%f') # start of the data collection\n",
    "end_time = datetime.datetime.strptime(df['timestamp'].max(), '%Y-%m-%d %H:%M:%S.%f') #end of the data collection\n",
    "data_duration = (end_time - start_time).days #number of days of the experiment\n",
    "\n",
    "t = df['user_id'].nunique()\n",
    "a = int(df[df['group'] == 'treatment'].shape[0]) # Number of subjects in treatment group\n",
    "b = int(df[df['group'] == 'control'].shape[0]) # Number of subjects in control group A\n",
    "\n",
    "print(f\"Nb. of unique user_id in experiment: {t}\")\n",
    "print(f\"Nb. of total entries in experiment: {df.shape[0]}\")\n",
    "print(f\"Nb. of users in treatment group: {a}\")\n",
    "print(f\"Nb. users in control group: {b}\")\n",
    "print(f\"Duration: {data_duration} days.\")"
   ]
  },
  {
   "cell_type": "markdown",
   "id": "db72be0c-be12-42f2-9d74-7b0de29c839c",
   "metadata": {},
   "source": [
    "## Data cleaning"
   ]
  },
  {
   "cell_type": "code",
   "execution_count": 29,
   "id": "e62463db-e2d4-4a75-9d41-310fdd7c764c",
   "metadata": {},
   "outputs": [
    {
     "name": "stdout",
     "output_type": "stream",
     "text": [
      "False    286690\n",
      "True       3894\n",
      "Name: user_id, dtype: int64\n",
      "3894 user_ids have been exposed to an old and new page. Those data should be removed as they do not represent a big part of the data collected\n"
     ]
    }
   ],
   "source": [
    "counter = df['user_id'].value_counts()\n",
    "mistake = (counter > 1).value_counts()\n",
    "print(mistake)\n",
    "print(f\"{mistake[1]} user_ids have been exposed to an old and new page. Those data should be removed as they do not represent a big part of the data collected\")"
   ]
  },
  {
   "cell_type": "code",
   "execution_count": null,
   "id": "65fb4db3-6eae-4c53-9a81-c5e687bd5152",
   "metadata": {},
   "outputs": [],
   "source": [
    "valid_users = pd.DataFrame(counter[counter == 1].index, columns=['user_id'])\n",
    "df = df.merge(valid_users, on=['user_id'])\n",
    "df.shape()"
   ]
  },
  {
   "cell_type": "markdown",
   "id": "52fb0687-2744-4a68-88cd-2a7f26e7a2b4",
   "metadata": {},
   "source": [
    "## Data engineering"
   ]
  },
  {
   "cell_type": "code",
   "execution_count": 32,
   "id": "98152027-a321-409f-9db6-51cb252ed7c1",
   "metadata": {},
   "outputs": [
    {
     "data": {
      "text/html": [
       "<div>\n",
       "<style scoped>\n",
       "    .dataframe tbody tr th:only-of-type {\n",
       "        vertical-align: middle;\n",
       "    }\n",
       "\n",
       "    .dataframe tbody tr th {\n",
       "        vertical-align: top;\n",
       "    }\n",
       "\n",
       "    .dataframe thead th {\n",
       "        text-align: right;\n",
       "    }\n",
       "</style>\n",
       "<table border=\"1\" class=\"dataframe\">\n",
       "  <thead>\n",
       "    <tr style=\"text-align: right;\">\n",
       "      <th></th>\n",
       "      <th>user_id</th>\n",
       "      <th>timestamp</th>\n",
       "      <th>group</th>\n",
       "      <th>landing_page</th>\n",
       "      <th>converted</th>\n",
       "      <th>week</th>\n",
       "    </tr>\n",
       "  </thead>\n",
       "  <tbody>\n",
       "    <tr>\n",
       "      <th>0</th>\n",
       "      <td>851104</td>\n",
       "      <td>2017-01-21 22:11:48.556739</td>\n",
       "      <td>control</td>\n",
       "      <td>old_page</td>\n",
       "      <td>0</td>\n",
       "      <td>3</td>\n",
       "    </tr>\n",
       "    <tr>\n",
       "      <th>1</th>\n",
       "      <td>804228</td>\n",
       "      <td>2017-01-12 08:01:45.159739</td>\n",
       "      <td>control</td>\n",
       "      <td>old_page</td>\n",
       "      <td>0</td>\n",
       "      <td>2</td>\n",
       "    </tr>\n",
       "    <tr>\n",
       "      <th>2</th>\n",
       "      <td>661590</td>\n",
       "      <td>2017-01-11 16:55:06.154213</td>\n",
       "      <td>treatment</td>\n",
       "      <td>new_page</td>\n",
       "      <td>0</td>\n",
       "      <td>2</td>\n",
       "    </tr>\n",
       "    <tr>\n",
       "      <th>3</th>\n",
       "      <td>853541</td>\n",
       "      <td>2017-01-08 18:28:03.143765</td>\n",
       "      <td>treatment</td>\n",
       "      <td>new_page</td>\n",
       "      <td>0</td>\n",
       "      <td>1</td>\n",
       "    </tr>\n",
       "    <tr>\n",
       "      <th>4</th>\n",
       "      <td>864975</td>\n",
       "      <td>2017-01-21 01:52:26.210827</td>\n",
       "      <td>control</td>\n",
       "      <td>old_page</td>\n",
       "      <td>1</td>\n",
       "      <td>3</td>\n",
       "    </tr>\n",
       "  </tbody>\n",
       "</table>\n",
       "</div>"
      ],
      "text/plain": [
       "   user_id                   timestamp      group landing_page  converted  \\\n",
       "0   851104  2017-01-21 22:11:48.556739    control     old_page          0   \n",
       "1   804228  2017-01-12 08:01:45.159739    control     old_page          0   \n",
       "2   661590  2017-01-11 16:55:06.154213  treatment     new_page          0   \n",
       "3   853541  2017-01-08 18:28:03.143765  treatment     new_page          0   \n",
       "4   864975  2017-01-21 01:52:26.210827    control     old_page          1   \n",
       "\n",
       "   week  \n",
       "0     3  \n",
       "1     2  \n",
       "2     2  \n",
       "3     1  \n",
       "4     3  "
      ]
     },
     "execution_count": 32,
     "metadata": {},
     "output_type": "execute_result"
    }
   ],
   "source": [
    "#Add week column:\n",
    "df['week'] = df['timestamp'].apply(lambda x: datetime.datetime.strptime(x, '%Y-%m-%d %H:%M:%S.%f').isocalendar()[1])\n",
    "number_of_week = df['week'].value_counts()\n",
    "df.head()"
   ]
  },
  {
   "cell_type": "code",
   "execution_count": 35,
   "id": "80bcc85a-6da1-49e8-8e55-b7218ade6a40",
   "metadata": {},
   "outputs": [
    {
     "name": "stdout",
     "output_type": "stream",
     "text": [
      "2    93853\n",
      "3    93518\n",
      "1    86058\n",
      "4    21049\n",
      "Name: week, dtype: int64\n"
     ]
    }
   ],
   "source": [
    "print(number_of_week)"
   ]
  },
  {
   "cell_type": "markdown",
   "id": "7f9acad1-964d-4cd1-840c-47184b8d2629",
   "metadata": {},
   "source": [
    "## Defining Variables"
   ]
  },
  {
   "cell_type": "code",
   "execution_count": 2,
   "id": "ac51d236-e17a-4748-b4f3-aa4accbe33eb",
   "metadata": {},
   "outputs": [
    {
     "name": "stdout",
     "output_type": "stream",
     "text": [
      "Observed Yes rate: B: 5.0 %, A-B: -2.0 %, \n",
      " Total counts: Yes: 130, No: 2870\n"
     ]
    }
   ],
   "source": [
    "# Variables that fully define the A/B test results\n",
    "a = 1000 # Number of subjects in group A\n",
    "b = 2000 # Number of subjects in group B\n",
    "t = a + b # Total number of subjects (A+B)\n",
    "\n",
    "a_yes = 30 # Yes count in group A\n",
    "b_yes = 100 # Yes count in group B\n",
    "\n",
    "#Computer remaining A/B test results\n",
    "t_yes = a_yes + b_yes # Total yes count\n",
    "t_no = t - t_yes # Total no count\n",
    "a_yes_pc = 100* a_yes / a # Yes percentage in A\n",
    "b_yes_pc = 100* b_yes / b # Yes percentage in B\n",
    "\n",
    "# A/B testing Statistic: Yes percentage difference (A-B)\n",
    "ab_yes_pc = a_yes_pc - b_yes_pc \n",
    "\n",
    "print(f'Observed Yes rate: B: {b_yes_pc} %, A-B: {ab_yes_pc} %, \\n Total counts: Yes: {t_yes}, No: {t_no}')\n"
   ]
  },
  {
   "cell_type": "code",
   "execution_count": 3,
   "id": "2b38de26-907f-421e-9e44-ce12a4edcd85",
   "metadata": {},
   "outputs": [],
   "source": [
    "seed(2) # For reproducible results\n",
    "\n",
    "bag = [1]*t_yes + [0]*t_no #S1 : create a bag with all the data\n",
    "\n",
    "p = 1000 # number of permutations\n",
    "perm_res = [0]*p # list for permutation results\n",
    "\n",
    "for i in range (p):\n",
    "    bag = sample(bag, k=len(bag)) # S2: Shuffle the bag\n",
    "    a_rs = bag[:a]                # S3: Random sample A\n",
    "    b_rs = bag[a:]                # S4: Random sample B\n",
    "    # Step 5: Compute the test statistic\n",
    "    perm_res[i] = 100*sum(a_rs)/a - 100*sum(b_rs)/b\n",
    "\n",
    "# Print representation of the Null hypothesis and can be used to compute the p-value\n",
    "# n = 5\n",
    "# for i in range(0, len(perm_res), n):\n",
    "#     print(str(perm_res[i:i+n]).replace(\",\", \"\").replace(\".0\", \"\"))"
   ]
  },
  {
   "cell_type": "markdown",
   "id": "7af03dcd-95aa-4d90-99bf-de577136daf5",
   "metadata": {},
   "source": [
    "Reminder about Powers and Errors:\n",
    "- Power: Probability of detecting a give effect size when the effect is real (True Positive). \n",
    "- Type I error (False Negative): Mistakenly concluding that an effect is due to chance(when it's actually real). Probability = Beta\n",
    "- Type II error (False Positive): Mistakenly concluding that an effect is real (when it's actually due to chance). Probability = Alpha"
   ]
  },
  {
   "cell_type": "markdown",
   "id": "b00d3999-7680-4af5-8b00-3c90537d3167",
   "metadata": {},
   "source": [
    "## Counting the number of times we get the values "
   ]
  },
  {
   "cell_type": "markdown",
   "id": "3249242b-1d84-4399-b287-202c489d486e",
   "metadata": {},
   "source": []
  },
  {
   "cell_type": "code",
   "execution_count": 4,
   "id": "47470b29-bcae-49f9-9da6-06700f36af0b",
   "metadata": {},
   "outputs": [],
   "source": [
    "# Transform list to pandas series:\n",
    "perm_res_s = pd.Series(perm_res)\n",
    "#print(pd.pivot_table(perm_res_s.value_counts().reset_index(), values = 0, columns = \"index\").to_string(index=False))\n"
   ]
  },
  {
   "cell_type": "markdown",
   "id": "3c884ba5-64d3-466d-81c1-8a7ab3150cd0",
   "metadata": {},
   "source": [
    "## Hypothesis tests"
   ]
  },
  {
   "cell_type": "code",
   "execution_count": 5,
   "id": "a9641b1f-305e-40af-ac11-68ee858214da",
   "metadata": {},
   "outputs": [
    {
     "name": "stdout",
     "output_type": "stream",
     "text": [
      "Number of permutations: 1000 \n",
      "Two-way: Extreme count          : 8 \n",
      "Two-way: Extreme ratio (p-value): 0.008 \n",
      "One-way: Extreme count          : 998 \n",
      "One-way: Extreme ratio (p-value): 0.998\n"
     ]
    }
   ],
   "source": [
    "# Two-way hypothesis test (Null: A = B, Alternative: A != B)\n",
    "extreme_count = sum(perm_res_s.abs() >= abs(ab_yes_pc))\n",
    "\n",
    "# One-way hypothesis test (Null: A <= B, Alternative: A > B)\n",
    "pos_extreme_count = sum(perm_res_s >= ab_yes_pc)\n",
    "\n",
    "print(\"Number of permutations:\", p, \n",
    "     \"\\nTwo-way: Extreme count          :\", extreme_count,\n",
    "     \"\\nTwo-way: Extreme ratio (p-value):\", extreme_count / p,\n",
    "     \"\\nOne-way: Extreme count          :\", pos_extreme_count,\n",
    "     \"\\nOne-way: Extreme ratio (p-value):\", pos_extreme_count / p)"
   ]
  },
  {
   "cell_type": "markdown",
   "id": "6caf0edf-6645-437b-b9d1-daa17c4b87c3",
   "metadata": {
    "tags": []
   },
   "source": [
    "## Results to decision\n",
    "It is recommended to launching a change when the result is\n",
    "- Statistically significant (based on p-value, if Confidence interval overlaps with 0: NOT statistically significant)\n",
    "- Practically significant (based on point estimate > practical significance boundary USD 2 / user)\n",
    "\n",
    "If it is not the case, run a follow-up test with more power would be helpful in this case\n",
    "\n",
    "- Tradeoffs between different metrics also need to be considered. If different metrics move in different directions, such as revenue and user engagment.\n",
    "- Costs of launching a change such as engineering maintenance also needs to be considered. When costs are high, we need to make sure the benefit overwheigh the cost (using a practical significance boundary). When costs are low, any positive changes should be launched.\n"
   ]
  },
  {
   "cell_type": "code",
   "execution_count": null,
   "id": "929a5445-e11c-4fea-a12b-0588ceeda5fe",
   "metadata": {},
   "outputs": [],
   "source": []
  }
 ],
 "metadata": {
  "kernelspec": {
   "display_name": "Python 3 (ipykernel)",
   "language": "python",
   "name": "python3"
  },
  "language_info": {
   "codemirror_mode": {
    "name": "ipython",
    "version": 3
   },
   "file_extension": ".py",
   "mimetype": "text/x-python",
   "name": "python",
   "nbconvert_exporter": "python",
   "pygments_lexer": "ipython3",
   "version": "3.9.7"
  },
  "toc-autonumbering": true
 },
 "nbformat": 4,
 "nbformat_minor": 5
}
